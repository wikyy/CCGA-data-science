{
 "cells": [
  {
   "cell_type": "markdown",
   "metadata": {},
   "source": [
    "anvil up link"
   ]
  },
  {
   "cell_type": "code",
   "execution_count": 1,
   "metadata": {},
   "outputs": [
    {
     "name": "stdout",
     "output_type": "stream",
     "text": [
      "Connecting to wss://anvil.works/uplink\n",
      "Anvil websocket open\n",
      "Connected to \"Default environment (dev)\" as SERVER\n"
     ]
    }
   ],
   "source": [
    "import anvil.server\n",
    "\n",
    "anvil.server.connect(\"H5ATVVLXUAC5K67CFYV32Q2O-LCCLRZLILFNGFPLF\")\n"
   ]
  },
  {
   "cell_type": "code",
   "execution_count": null,
   "metadata": {},
   "outputs": [],
   "source": []
  },
  {
   "cell_type": "markdown",
   "metadata": {},
   "source": [
    "Classification Vehicule arbre tree"
   ]
  },
  {
   "cell_type": "code",
   "execution_count": 2,
   "metadata": {},
   "outputs": [],
   "source": [
    "\n",
    "import pandas  as pandas\n",
    "df = pandas.read_excel (r'C:\\Users\\amin\\Desktop\\worksop talet\\Nouveau dossier\\TOS_DI-Win32-20200219_1130-V7.3.1\\workspace\\vehiculenonSinstrer.xls')\n"
   ]
  },
  {
   "cell_type": "code",
   "execution_count": 3,
   "metadata": {},
   "outputs": [],
   "source": [
    "import numpy as np\n",
    "import pandas as pd\n",
    "import matplotlib.pyplot as plt"
   ]
  },
  {
   "cell_type": "code",
   "execution_count": 4,
   "metadata": {},
   "outputs": [],
   "source": [
    "Voiture=df"
   ]
  },
  {
   "cell_type": "code",
   "execution_count": null,
   "metadata": {},
   "outputs": [],
   "source": []
  },
  {
   "cell_type": "code",
   "execution_count": 5,
   "metadata": {},
   "outputs": [],
   "source": [
    "Voiture=Voiture.replace('0',0)\n",
    "Voiture=Voiture.replace('ESSENCE',1)\n",
    "Voiture=Voiture.replace('GASOIL',2)\n",
    "Voiture=Voiture.replace('ESS-GAZ GPL',3)\n",
    "Voiture=Voiture.replace('ELECTRICITE',4)"
   ]
  },
  {
   "cell_type": "code",
   "execution_count": 6,
   "metadata": {},
   "outputs": [],
   "source": [
    "Voiture=Voiture.drop(columns=['Vehicule_id', 'Marque', 'UsageVehicule'])"
   ]
  },
  {
   "cell_type": "code",
   "execution_count": 7,
   "metadata": {},
   "outputs": [],
   "source": [
    "y= Voiture['sinister']\n",
    "X=Voiture.drop(columns=['sinister'])"
   ]
  },
  {
   "cell_type": "code",
   "execution_count": 8,
   "metadata": {},
   "outputs": [],
   "source": [
    "from sklearn.model_selection import train_test_split\n",
    "\n",
    "X_train, X_test, y_train, y_test = train_test_split(X, y, train_size=0.7, random_state=2)# random_state=some_number pour garantir que votre split sera toujours le même"
   ]
  },
  {
   "cell_type": "code",
   "execution_count": 9,
   "metadata": {},
   "outputs": [],
   "source": [
    "from sklearn.tree import DecisionTreeClassifier\n",
    "from sklearn.multioutput import MultiOutputClassifier\n"
   ]
  },
  {
   "cell_type": "code",
   "execution_count": 10,
   "metadata": {},
   "outputs": [],
   "source": [
    "from sklearn.preprocessing import StandardScaler\n",
    "\n",
    "scaler = StandardScaler()\n",
    "scaler.fit(X_train)\n",
    "\n",
    "X_train = scaler.transform(X_train)\n",
    "X_test = scaler.transform(X_test)"
   ]
  },
  {
   "cell_type": "code",
   "execution_count": 11,
   "metadata": {},
   "outputs": [],
   "source": [
    "param_grid = {'criterion': ['gini', 'entropy'],\n",
    "             'max_depth': np.arange(1,15)}"
   ]
  },
  {
   "cell_type": "code",
   "execution_count": 12,
   "metadata": {},
   "outputs": [],
   "source": [
    "from sklearn.model_selection import GridSearchCV"
   ]
  },
  {
   "cell_type": "code",
   "execution_count": 13,
   "metadata": {},
   "outputs": [],
   "source": [
    "grid = GridSearchCV(DecisionTreeClassifier(random_state=0), param_grid=param_grid, cv=10)"
   ]
  },
  {
   "cell_type": "code",
   "execution_count": 14,
   "metadata": {},
   "outputs": [
    {
     "data": {
      "text/plain": [
       "GridSearchCV(cv=10, estimator=DecisionTreeClassifier(random_state=0),\n",
       "             param_grid={'criterion': ['gini', 'entropy'],\n",
       "                         'max_depth': array([ 1,  2,  3,  4,  5,  6,  7,  8,  9, 10, 11, 12, 13, 14])})"
      ]
     },
     "execution_count": 14,
     "metadata": {},
     "output_type": "execute_result"
    }
   ],
   "source": [
    "grid.fit(X_train, y_train)"
   ]
  },
  {
   "cell_type": "code",
   "execution_count": 15,
   "metadata": {},
   "outputs": [
    {
     "data": {
      "text/plain": [
       "{'criterion': 'entropy', 'max_depth': 8}"
      ]
     },
     "execution_count": 15,
     "metadata": {},
     "output_type": "execute_result"
    }
   ],
   "source": [
    "grid.best_params_"
   ]
  },
  {
   "cell_type": "code",
   "execution_count": 16,
   "metadata": {},
   "outputs": [],
   "source": [
    "final_model = DecisionTreeClassifier(random_state=1, criterion='entropy', max_depth=8)"
   ]
  },
  {
   "cell_type": "code",
   "execution_count": 17,
   "metadata": {},
   "outputs": [
    {
     "data": {
      "text/plain": [
       "DecisionTreeClassifier(criterion='entropy', max_depth=8, random_state=1)"
      ]
     },
     "execution_count": 17,
     "metadata": {},
     "output_type": "execute_result"
    }
   ],
   "source": [
    "final_model.fit(X_train, y_train)"
   ]
  },
  {
   "cell_type": "code",
   "execution_count": 18,
   "metadata": {},
   "outputs": [
    {
     "name": "stdout",
     "output_type": "stream",
     "text": [
      "le train_score= 0.8526384474230863\n",
      "le test_score= 0.8532191129612499\n"
     ]
    }
   ],
   "source": [
    "print( 'le train_score=',final_model.score(X_train, y_train))\n",
    "print( 'le test_score=',final_model.score(X_test, y_test))"
   ]
  },
  {
   "cell_type": "code",
   "execution_count": 19,
   "metadata": {},
   "outputs": [],
   "source": [
    "\n",
    "import pandas  as pandas\n",
    "marque = pandas.read_excel (r'C:\\Users\\amin\\Desktop\\Final Data\\marque.xlsx')\n"
   ]
  },
  {
   "cell_type": "code",
   "execution_count": 20,
   "metadata": {},
   "outputs": [],
   "source": [
    "usage = pandas.read_excel (r'C:\\Users\\amin\\Desktop\\Final Data\\usage.xlsx')"
   ]
  },
  {
   "cell_type": "code",
   "execution_count": 21,
   "metadata": {},
   "outputs": [
    {
     "data": {
      "text/plain": [
       "array(['Privé et professionnel',\n",
       "       'Agricole1 véhicule dont le PTC < 3500 kg',\n",
       "       'Agricole 2 véhicule dont le PTC > 3500 kg',\n",
       "       'Agricole Tracteur et Moissonneuse Batteuse.',\n",
       "       'Utilitaire 1 véhicule dont le PTC < 3500 kg (y compris usage voirie)',\n",
       "       'Utilitaire 2 véhicule dont le PTC > 3500 kg (y compris voirie)',\n",
       "       'Transport public de marchandise (avec matière dangereuse et inflammable)',\n",
       "       'Transport public de voyageurs',\n",
       "       'Transport privé de personnes (personnel / enfants /membre d’association)',\n",
       "       'Taxi', 'Auto-Ecole', 'Louage', 'Transport Rural',\n",
       "       'Agences de Voyage et Hôtels', 'Location', 'Engin de Chantiers',\n",
       "       'autres usages (Ambulance / Corbillard / RC Garagiste / RC Trajet etc)'],\n",
       "      dtype=object)"
      ]
     },
     "execution_count": 21,
     "metadata": {},
     "output_type": "execute_result"
    }
   ],
   "source": [
    "usage['Usage'].unique()"
   ]
  },
  {
   "cell_type": "code",
   "execution_count": 22,
   "metadata": {},
   "outputs": [],
   "source": [
    "def compu(v):\n",
    "     for i in range(0, 18):\n",
    "        if usage['Usage'][i]==v:\n",
    "            m=usage['Code'][i]\n",
    "            print(m)\n",
    "       \n",
    "            return m \n",
    "       \n",
    "            "
   ]
  },
  {
   "cell_type": "code",
   "execution_count": 23,
   "metadata": {},
   "outputs": [],
   "source": [
    "def comp(a):\n",
    "     for i in range(0, 1771):\n",
    "        if marque['Marque'][i]==a:\n",
    "            m=marque['Code'][i]\n",
    "            return m \n",
    "        "
   ]
  },
  {
   "cell_type": "code",
   "execution_count": 24,
   "metadata": {
    "scrolled": true
   },
   "outputs": [],
   "source": [
    "@anvil.server.callable\n",
    "def eval(PuissanceFiscale,Energie,Ptac,DateMiseEnCirculation,CodeMarque,CodeUsage):\n",
    "    if Energie==\"ESSENCE\":\n",
    "        e=1\n",
    "    if Energie==\"GASOIL\":\n",
    "        e=2\n",
    "    if Energie==\"ESS-GAZ GPL\":\n",
    "        e=3\n",
    "    if Energie==\"ELECTRICITE\":\n",
    "        e=4\n",
    "    \n",
    "    m=comp(CodeMarque)\n",
    "    u=compu(CodeUsage)  \n",
    "    print(m)\n",
    "    print(u)\n",
    "      \n",
    "    predictionvoiture=[PuissanceFiscale,e,Ptac,DateMiseEnCirculation,m,u]\n",
    "    features = np.array(predictionvoiture)\n",
    "    predictionvoiture=features.reshape(1,-1)\n",
    "    if final_model.predict(predictionvoiture)[0]>0:\n",
    "        return 'this car is classified as a risk carrier'\n",
    "    else:\n",
    "        return 'this car is not risk carrier'\n"
   ]
  },
  {
   "cell_type": "code",
   "execution_count": null,
   "metadata": {},
   "outputs": [],
   "source": []
  },
  {
   "cell_type": "code",
   "execution_count": 25,
   "metadata": {},
   "outputs": [
    {
     "name": "stdout",
     "output_type": "stream",
     "text": [
      "Feature: 0, Score: 0.19279\n",
      "Feature: 1, Score: 0.03311\n",
      "Feature: 2, Score: 0.00409\n",
      "Feature: 3, Score: 0.00676\n",
      "Feature: 4, Score: 0.34508\n",
      "Feature: 5, Score: 0.41817\n"
     ]
    },
    {
     "data": {
      "image/png": "[encoded data removed]",
      "text/plain": [
       "<Figure size 432x288 with 1 Axes>"
      ]
     },
     "metadata": {
      "needs_background": "light"
     },
     "output_type": "display_data"
    }
   ],
   "source": [
    "importance = final_model.feature_importances_\n",
    "# summarize feature importance\n",
    "for i,v in enumerate(importance):\n",
    "    print('Feature: %0d, Score: %.5f' % (i,v))\n",
    "# plot feature importance\n",
    "plt.bar([X for X in range(len(importance))], importance)\n",
    "plt.show()\n"
   ]
  },
  {
   "cell_type": "code",
   "execution_count": 26,
   "metadata": {},
   "outputs": [],
   "source": [
    "predictionvoiture=[4,1,5,2001,107,29]\n",
    "features = np.array(predictionvoiture)\n",
    "predictionvoiture=features.reshape(1,-1)\n"
   ]
  },
  {
   "cell_type": "code",
   "execution_count": 27,
   "metadata": {},
   "outputs": [
    {
     "data": {
      "text/plain": [
       "1"
      ]
     },
     "execution_count": 27,
     "metadata": {},
     "output_type": "execute_result"
    }
   ],
   "source": [
    "# final_model.predict(predictionvoiture)\n",
    "final_model.predict(predictionvoiture)[0]"
   ]
  },
  {
   "cell_type": "code",
   "execution_count": 28,
   "metadata": {},
   "outputs": [
    {
     "data": {
      "text/html": [
       "<div>\n",
       "<style scoped>\n",
       "    .dataframe tbody tr th:only-of-type {\n",
       "        vertical-align: middle;\n",
       "    }\n",
       "\n",
       "    .dataframe tbody tr th {\n",
       "        vertical-align: top;\n",
       "    }\n",
       "\n",
       "    .dataframe thead th {\n",
       "        text-align: right;\n",
       "    }\n",
       "</style>\n",
       "<table border=\"1\" class=\"dataframe\">\n",
       "  <thead>\n",
       "    <tr style=\"text-align: right;\">\n",
       "      <th></th>\n",
       "      <th>PuissanceFiscale</th>\n",
       "      <th>Energie</th>\n",
       "      <th>Ptac</th>\n",
       "      <th>DateMiseEnCirculation</th>\n",
       "      <th>CodeMarque</th>\n",
       "      <th>CodeUsage</th>\n",
       "    </tr>\n",
       "  </thead>\n",
       "  <tbody>\n",
       "    <tr>\n",
       "      <td>0</td>\n",
       "      <td>4</td>\n",
       "      <td>1</td>\n",
       "      <td>5</td>\n",
       "      <td>2009</td>\n",
       "      <td>107</td>\n",
       "      <td>1</td>\n",
       "    </tr>\n",
       "    <tr>\n",
       "      <td>1</td>\n",
       "      <td>4</td>\n",
       "      <td>1</td>\n",
       "      <td>2</td>\n",
       "      <td>2010</td>\n",
       "      <td>30</td>\n",
       "      <td>1</td>\n",
       "    </tr>\n",
       "    <tr>\n",
       "      <td>2</td>\n",
       "      <td>4</td>\n",
       "      <td>1</td>\n",
       "      <td>6</td>\n",
       "      <td>2018</td>\n",
       "      <td>30</td>\n",
       "      <td>1</td>\n",
       "    </tr>\n",
       "    <tr>\n",
       "      <td>3</td>\n",
       "      <td>4</td>\n",
       "      <td>1</td>\n",
       "      <td>2</td>\n",
       "      <td>2014</td>\n",
       "      <td>30</td>\n",
       "      <td>1</td>\n",
       "    </tr>\n",
       "    <tr>\n",
       "      <td>4</td>\n",
       "      <td>7</td>\n",
       "      <td>2</td>\n",
       "      <td>6</td>\n",
       "      <td>2016</td>\n",
       "      <td>12</td>\n",
       "      <td>5</td>\n",
       "    </tr>\n",
       "    <tr>\n",
       "      <td>...</td>\n",
       "      <td>...</td>\n",
       "      <td>...</td>\n",
       "      <td>...</td>\n",
       "      <td>...</td>\n",
       "      <td>...</td>\n",
       "      <td>...</td>\n",
       "    </tr>\n",
       "    <tr>\n",
       "      <td>1037754</td>\n",
       "      <td>17</td>\n",
       "      <td>2</td>\n",
       "      <td>9</td>\n",
       "      <td>2018</td>\n",
       "      <td>376</td>\n",
       "      <td>2</td>\n",
       "    </tr>\n",
       "    <tr>\n",
       "      <td>1037755</td>\n",
       "      <td>10</td>\n",
       "      <td>2</td>\n",
       "      <td>7</td>\n",
       "      <td>2011</td>\n",
       "      <td>376</td>\n",
       "      <td>2</td>\n",
       "    </tr>\n",
       "    <tr>\n",
       "      <td>1037756</td>\n",
       "      <td>13</td>\n",
       "      <td>2</td>\n",
       "      <td>1</td>\n",
       "      <td>2010</td>\n",
       "      <td>338</td>\n",
       "      <td>2</td>\n",
       "    </tr>\n",
       "    <tr>\n",
       "      <td>1037757</td>\n",
       "      <td>5</td>\n",
       "      <td>1</td>\n",
       "      <td>9</td>\n",
       "      <td>2017</td>\n",
       "      <td>29</td>\n",
       "      <td>1</td>\n",
       "    </tr>\n",
       "    <tr>\n",
       "      <td>1037758</td>\n",
       "      <td>10</td>\n",
       "      <td>2</td>\n",
       "      <td>4</td>\n",
       "      <td>2007</td>\n",
       "      <td>347</td>\n",
       "      <td>2</td>\n",
       "    </tr>\n",
       "  </tbody>\n",
       "</table>\n",
       "<p>1037759 rows × 6 columns</p>\n",
       "</div>"
      ],
      "text/plain": [
       "         PuissanceFiscale  Energie  Ptac  DateMiseEnCirculation  CodeMarque  \\\n",
       "0                       4        1     5                   2009         107   \n",
       "1                       4        1     2                   2010          30   \n",
       "2                       4        1     6                   2018          30   \n",
       "3                       4        1     2                   2014          30   \n",
       "4                       7        2     6                   2016          12   \n",
       "...                   ...      ...   ...                    ...         ...   \n",
       "1037754                17        2     9                   2018         376   \n",
       "1037755                10        2     7                   2011         376   \n",
       "1037756                13        2     1                   2010         338   \n",
       "1037757                 5        1     9                   2017          29   \n",
       "1037758                10        2     4                   2007         347   \n",
       "\n",
       "         CodeUsage  \n",
       "0                1  \n",
       "1                1  \n",
       "2                1  \n",
       "3                1  \n",
       "4                5  \n",
       "...            ...  \n",
       "1037754          2  \n",
       "1037755          2  \n",
       "1037756          2  \n",
       "1037757          1  \n",
       "1037758          2  \n",
       "\n",
       "[1037759 rows x 6 columns]"
      ]
     },
     "execution_count": 28,
     "metadata": {},
     "output_type": "execute_result"
    }
   ],
   "source": [
    "X"
   ]
  },
  {
   "cell_type": "markdown",
   "metadata": {},
   "source": [
    "Profiling assurer"
   ]
  },
  {
   "cell_type": "code",
   "execution_count": 29,
   "metadata": {},
   "outputs": [],
   "source": [
    "import numpy as np\n",
    "import matplotlib.pyplot as plt\n",
    "import pandas as pd"
   ]
  },
  {
   "cell_type": "code",
   "execution_count": 30,
   "metadata": {},
   "outputs": [],
   "source": [
    "df1 = pd.read_excel (r'C:\\Users\\amin\\Downloads\\a.xlsx')"
   ]
  },
  {
   "cell_type": "code",
   "execution_count": 31,
   "metadata": {},
   "outputs": [],
   "source": [
    "df1=df1.drop(columns=['AssureId', 'CodePostal', 'gouvernorat','nb sinistre'])"
   ]
  },
  {
   "cell_type": "code",
   "execution_count": 32,
   "metadata": {},
   "outputs": [],
   "source": [
    "df1=df1.replace('Non',0)\n",
    "df1=df1.replace('oui',1)"
   ]
  },
  {
   "cell_type": "code",
   "execution_count": 33,
   "metadata": {},
   "outputs": [],
   "source": [
    "#Séparer les variables explicatives X/Classe y\n",
    "X =  df1.drop(['Sinistrer'], axis=1)\n",
    "y = df1['Sinistrer']\n",
    "#Diviser les données (80% Apprentissage et 20% Test)\n",
    "from sklearn.model_selection import train_test_split\n",
    "X_train, X_test, y_train, y_test = train_test_split(X, y, test_size = 0.2, random_state = 1)"
   ]
  },
  {
   "cell_type": "code",
   "execution_count": 34,
   "metadata": {},
   "outputs": [],
   "source": [
    "from sklearn.preprocessing import StandardScaler\n",
    "\n",
    "scaler = StandardScaler()\n",
    "scaler.fit(X_train)\n",
    "\n",
    "X_train = scaler.transform(X_train)\n",
    "X_test = scaler.transform(X_test)"
   ]
  },
  {
   "cell_type": "code",
   "execution_count": 35,
   "metadata": {},
   "outputs": [
    {
     "data": {
      "text/html": [
       "<div>\n",
       "<style scoped>\n",
       "    .dataframe tbody tr th:only-of-type {\n",
       "        vertical-align: middle;\n",
       "    }\n",
       "\n",
       "    .dataframe tbody tr th {\n",
       "        vertical-align: top;\n",
       "    }\n",
       "\n",
       "    .dataframe thead th {\n",
       "        text-align: right;\n",
       "    }\n",
       "</style>\n",
       "<table border=\"1\" class=\"dataframe\">\n",
       "  <thead>\n",
       "    <tr style=\"text-align: right;\">\n",
       "      <th></th>\n",
       "      <th>Age</th>\n",
       "      <th>ClasseBonnusMalus</th>\n",
       "      <th>sexe</th>\n",
       "    </tr>\n",
       "  </thead>\n",
       "  <tbody>\n",
       "    <tr>\n",
       "      <td>0</td>\n",
       "      <td>19</td>\n",
       "      <td>2</td>\n",
       "      <td>0</td>\n",
       "    </tr>\n",
       "    <tr>\n",
       "      <td>1</td>\n",
       "      <td>69</td>\n",
       "      <td>2</td>\n",
       "      <td>1</td>\n",
       "    </tr>\n",
       "    <tr>\n",
       "      <td>2</td>\n",
       "      <td>70</td>\n",
       "      <td>5</td>\n",
       "      <td>0</td>\n",
       "    </tr>\n",
       "    <tr>\n",
       "      <td>3</td>\n",
       "      <td>71</td>\n",
       "      <td>3</td>\n",
       "      <td>1</td>\n",
       "    </tr>\n",
       "    <tr>\n",
       "      <td>4</td>\n",
       "      <td>44</td>\n",
       "      <td>8</td>\n",
       "      <td>1</td>\n",
       "    </tr>\n",
       "    <tr>\n",
       "      <td>...</td>\n",
       "      <td>...</td>\n",
       "      <td>...</td>\n",
       "      <td>...</td>\n",
       "    </tr>\n",
       "    <tr>\n",
       "      <td>1048570</td>\n",
       "      <td>50</td>\n",
       "      <td>4</td>\n",
       "      <td>1</td>\n",
       "    </tr>\n",
       "    <tr>\n",
       "      <td>1048571</td>\n",
       "      <td>44</td>\n",
       "      <td>4</td>\n",
       "      <td>1</td>\n",
       "    </tr>\n",
       "    <tr>\n",
       "      <td>1048572</td>\n",
       "      <td>25</td>\n",
       "      <td>1</td>\n",
       "      <td>1</td>\n",
       "    </tr>\n",
       "    <tr>\n",
       "      <td>1048573</td>\n",
       "      <td>22</td>\n",
       "      <td>3</td>\n",
       "      <td>1</td>\n",
       "    </tr>\n",
       "    <tr>\n",
       "      <td>1048574</td>\n",
       "      <td>43</td>\n",
       "      <td>2</td>\n",
       "      <td>1</td>\n",
       "    </tr>\n",
       "  </tbody>\n",
       "</table>\n",
       "<p>1048575 rows × 3 columns</p>\n",
       "</div>"
      ],
      "text/plain": [
       "         Age  ClasseBonnusMalus  sexe\n",
       "0         19                  2     0\n",
       "1         69                  2     1\n",
       "2         70                  5     0\n",
       "3         71                  3     1\n",
       "4         44                  8     1\n",
       "...      ...                ...   ...\n",
       "1048570   50                  4     1\n",
       "1048571   44                  4     1\n",
       "1048572   25                  1     1\n",
       "1048573   22                  3     1\n",
       "1048574   43                  2     1\n",
       "\n",
       "[1048575 rows x 3 columns]"
      ]
     },
     "execution_count": 35,
     "metadata": {},
     "output_type": "execute_result"
    }
   ],
   "source": [
    "X"
   ]
  },
  {
   "cell_type": "code",
   "execution_count": 36,
   "metadata": {},
   "outputs": [],
   "source": [
    "from numpy import loadtxt\n",
    "from xgboost import XGBClassifier\n",
    "from sklearn.model_selection import train_test_split\n",
    "from sklearn.metrics import accuracy_score"
   ]
  },
  {
   "cell_type": "code",
   "execution_count": 37,
   "metadata": {},
   "outputs": [],
   "source": [
    "model = XGBClassifier()\n",
    "modelAssure=model.fit(X_train, y_train)"
   ]
  },
  {
   "cell_type": "code",
   "execution_count": 38,
   "metadata": {},
   "outputs": [],
   "source": [
    "y_pred = model.predict(X_test)\n",
    "predictions = [round(value) for value in y_pred]"
   ]
  },
  {
   "cell_type": "code",
   "execution_count": 39,
   "metadata": {},
   "outputs": [
    {
     "name": "stdout",
     "output_type": "stream",
     "text": [
      "Accuracy: 86.96%\n"
     ]
    }
   ],
   "source": [
    "accuracy = accuracy_score(y_test, predictions)\n",
    "print(\"Accuracy: %.2f%%\" % (accuracy * 100.0))"
   ]
  },
  {
   "cell_type": "code",
   "execution_count": 40,
   "metadata": {},
   "outputs": [],
   "source": [
    "@anvil.server.callable\n",
    "def evala(age,ClasseBonnusMalus,sexe):\n",
    "    v=int(ClasseBonnusMalus)\n",
    "    if sexe==\"Male\":\n",
    "        e=0\n",
    "    if sexe==\"Female\":\n",
    "        e=1\n",
    "    if v >4:\n",
    "        v=v-3\n",
    "        \n",
    "    predictionassurer=[age,v,e]\n",
    "    features = np.array(predictionassurer)\n",
    "    predictionassurer=features.reshape(1,-1)\n",
    "    if modelAssure.predict(predictionassurer)[0]>0:\n",
    "        return 'this client is classified as a risk carrier'\n",
    "    else:\n",
    "        return 'this client does not carry any risk'"
   ]
  },
  {
   "cell_type": "code",
   "execution_count": 41,
   "metadata": {},
   "outputs": [
    {
     "name": "stdout",
     "output_type": "stream",
     "text": [
      "Feature: 0, Score: 0.01862\n",
      "Feature: 1, Score: 0.95786\n",
      "Feature: 2, Score: 0.02352\n"
     ]
    },
    {
     "data": {
      "image/png": "[encoded data removed]",
      "text/plain": [
       "<Figure size 432x288 with 1 Axes>"
      ]
     },
     "metadata": {
      "needs_background": "light"
     },
     "output_type": "display_data"
    }
   ],
   "source": [
    "importance = model.feature_importances_\n",
    "# summarize feature importance\n",
    "for i,v in enumerate(importance):\n",
    "\tprint('Feature: %0d, Score: %.5f' % (i,v))\n",
    "# plot feature importance\n",
    "plt.bar([x for x in range(len(importance))], importance)\n",
    "plt.show()"
   ]
  },
  {
   "cell_type": "markdown",
   "metadata": {},
   "source": [
    "predicition Nb sinistre dans le temps"
   ]
  },
  {
   "cell_type": "code",
   "execution_count": 42,
   "metadata": {},
   "outputs": [],
   "source": [
    "import numpy as np\n",
    "import pandas as pd\n",
    "from matplotlib import pyplot as plt\n",
    "from statsmodels.tsa.stattools import adfuller\n",
    "from statsmodels.tsa.seasonal import seasonal_decompose\n",
    "from statsmodels.tsa.arima_model import ARIMA\n",
    "from pandas.plotting import register_matplotlib_converters\n",
    "register_matplotlib_converters()"
   ]
  },
  {
   "cell_type": "code",
   "execution_count": 1,
   "metadata": {},
   "outputs": [
    {
     "ename": "NameError",
     "evalue": "name 'pd' is not defined",
     "output_type": "error",
     "traceback": [
      "\u001b[1;31m---------------------------------------------------------------------------\u001b[0m",
      "\u001b[1;31mNameError\u001b[0m                                 Traceback (most recent call last)",
      "\u001b[1;32m<ipython-input-1-c333224a4a86>\u001b[0m in \u001b[0;36m<module>\u001b[1;34m\u001b[0m\n\u001b[1;32m----> 1\u001b[1;33m \u001b[0mdf_cga_prediction\u001b[0m \u001b[1;33m=\u001b[0m \u001b[0mpd\u001b[0m\u001b[1;33m.\u001b[0m\u001b[0mread_excel\u001b[0m \u001b[1;33m(\u001b[0m\u001b[1;34mr'C:\\Users\\amin\\Downloads\\amine.xlsx'\u001b[0m\u001b[1;33m,\u001b[0m\u001b[0mparse_dates\u001b[0m \u001b[1;33m=\u001b[0m \u001b[1;33m[\u001b[0m\u001b[1;34m'MonthYear'\u001b[0m\u001b[1;33m]\u001b[0m\u001b[1;33m,\u001b[0m \u001b[0mindex_col\u001b[0m \u001b[1;33m=\u001b[0m\u001b[1;36m0\u001b[0m\u001b[1;33m)\u001b[0m\u001b[1;33m\u001b[0m\u001b[1;33m\u001b[0m\u001b[0m\n\u001b[0m",
      "\u001b[1;31mNameError\u001b[0m: name 'pd' is not defined"
     ]
    }
   ],
   "source": [
    "df_cga_prediction = pd.read_excel (r'C:\\Users\\amin\\Downloads\\amine.xlsx',parse_dates = ['Mois'], index_col =0)\n",
    "df_cga_prediction=df_cga_prediction.drop(columns=['Ann_e', 'Temperature', 'precipitation','WindVitesse'])"
   ]
  },
  {
   "cell_type": "code",
   "execution_count": 44,
   "metadata": {},
   "outputs": [
    {
     "data": {
      "text/plain": [
       "Index(['Nombre_de_sinistre', 'Colonne1'], dtype='object')"
      ]
     },
     "execution_count": 44,
     "metadata": {},
     "output_type": "execute_result"
    }
   ],
   "source": [
    "df2=df_cga_prediction\n",
    "df2.columns"
   ]
  },
  {
   "cell_type": "code",
   "execution_count": 45,
   "metadata": {},
   "outputs": [],
   "source": [
    "df2=df2.drop(['Colonne1'],axis=1)"
   ]
  },
  {
   "cell_type": "code",
   "execution_count": 46,
   "metadata": {},
   "outputs": [
    {
     "data": {
      "image/png": "[encoded data removed]",
      "text/plain": [
       "<Figure size 432x288 with 1 Axes>"
      ]
     },
     "metadata": {
      "needs_background": "light"
     },
     "output_type": "display_data"
    }
   ],
   "source": [
    "rolling_mean = df2.rolling(window = 12).mean()\n",
    "rolling_std = df2.rolling(window = 12).std()\n",
    "plt.plot(df2, color = 'blue', label = 'Origine')\n",
    "plt.plot(rolling_mean, color = 'red', label = 'Moyenne mobile')\n",
    "plt.plot(rolling_std, color = 'black', label = 'Ecart-type mobile')\n",
    "plt.legend(loc = 'best')\n",
    "plt.title('Moyenne et Ecart-type mobiles')\n",
    "plt.show()"
   ]
  },
  {
   "cell_type": "code",
   "execution_count": 47,
   "metadata": {},
   "outputs": [],
   "source": [
    "def get_stationarity(timeseries):\n",
    "    \n",
    "    # Statistiques mobiles\n",
    "    rolling_mean = timeseries.rolling(window=12).mean()\n",
    "    rolling_std = timeseries.rolling(window=12).std()\n",
    "    \n",
    "    # tracé statistiques mobiles\n",
    "    original = plt.plot(timeseries, color='blue', label='Origine')\n",
    "    mean = plt.plot(rolling_mean, color='red', label='Moyenne Mobile')\n",
    "    std = plt.plot(rolling_std, color='black', label='Ecart-type Mobile')\n",
    "    plt.legend(loc='best')\n",
    "    plt.title('Moyenne et écart-type Mobiles')\n",
    "    plt.show(block=False)\n",
    "    \n",
    "    # Test Dickey–Fuller :\n",
    "    result = adfuller(timeseries['Nombre_de_sinistre'])\n",
    "    print('Statistiques ADF : {}'.format(result[0]))\n",
    "    print('p-value : {}'.format(result[1]))\n",
    "    print('Valeurs Critiques :')\n",
    "    for key, value in result[4].items():\n",
    "        print('\\t{}: {}'.format(key, value))"
   ]
  },
  {
   "cell_type": "code",
   "execution_count": 48,
   "metadata": {},
   "outputs": [
    {
     "data": {
      "text/plain": [
       "[<matplotlib.lines.Line2D at 0x17721816848>]"
      ]
     },
     "execution_count": 48,
     "metadata": {},
     "output_type": "execute_result"
    },
    {
     "data": {
      "image/png": "[encoded data removed]",
      "text/plain": [
       "<Figure size 432x288 with 1 Axes>"
      ]
     },
     "metadata": {
      "needs_background": "light"
     },
     "output_type": "display_data"
    }
   ],
   "source": [
    "df_log = np.log(df2)\n",
    "plt.plot(df_log)"
   ]
  },
  {
   "cell_type": "code",
   "execution_count": 49,
   "metadata": {},
   "outputs": [],
   "source": [
    "rolling_meana = df_log.rolling(window=12).mean()\n",
    "df_log_minus_mean = df_log +rolling_meana\n",
    "df_log_minus_mean.dropna(inplace=True)"
   ]
  },
  {
   "cell_type": "code",
   "execution_count": 50,
   "metadata": {},
   "outputs": [
    {
     "data": {
      "image/png": "[encoded data removed]",
      "text/plain": [
       "<Figure size 432x288 with 1 Axes>"
      ]
     },
     "metadata": {
      "needs_background": "light"
     },
     "output_type": "display_data"
    },
    {
     "name": "stdout",
     "output_type": "stream",
     "text": [
      "Statistiques ADF : -2.0597788837531006\n",
      "p-value : 0.2609920858814282\n",
      "Valeurs Critiques :\n",
      "\t1%: -3.6327426647230316\n",
      "\t5%: -2.9485102040816327\n",
      "\t10%: -2.6130173469387756\n"
     ]
    }
   ],
   "source": [
    "rolling_mean_exp_decay = df_log.ewm(halflife=12, min_periods=0, adjust=True).mean()\n",
    "df_log_exp_decay = df_log - rolling_mean_exp_decay\n",
    "df_log_exp_decay.dropna(inplace=True)\n",
    "get_stationarity(df_log_exp_decay)"
   ]
  },
  {
   "cell_type": "code",
   "execution_count": 51,
   "metadata": {},
   "outputs": [
    {
     "name": "stderr",
     "output_type": "stream",
     "text": [
      "C:\\Users\\amin\\Anaconda3\\lib\\site-packages\\statsmodels\\tsa\\base\\tsa_model.py:215: ValueWarning: An unsupported index was provided and will be ignored when e.g. forecasting.\n",
      "  ' ignored when e.g. forecasting.', ValueWarning)\n",
      "C:\\Users\\amin\\Anaconda3\\lib\\site-packages\\statsmodels\\tsa\\base\\tsa_model.py:215: ValueWarning: An unsupported index was provided and will be ignored when e.g. forecasting.\n",
      "  ' ignored when e.g. forecasting.', ValueWarning)\n",
      "C:\\Users\\amin\\Anaconda3\\lib\\site-packages\\statsmodels\\base\\model.py:492: HessianInversionWarning: Inverting hessian failed, no bse or cov_params available\n",
      "  'available', HessianInversionWarning)\n"
     ]
    },
    {
     "data": {
      "text/plain": [
       "[<matplotlib.lines.Line2D at 0x1771d18d288>]"
      ]
     },
     "execution_count": 51,
     "metadata": {},
     "output_type": "execute_result"
    },
    {
     "data": {
      "image/png": "[encoded data removed]",
      "text/plain": [
       "<Figure size 432x288 with 1 Axes>"
      ]
     },
     "metadata": {
      "needs_background": "light"
     },
     "output_type": "display_data"
    }
   ],
   "source": [
    "modelArima = ARIMA(df_log, order=(7,1,2))\n",
    "results = modelArima.fit(disp=-2)\n",
    "plt.plot(df_log_exp_decay)\n",
    "plt.plot(results.fittedvalues, color='red')"
   ]
  },
  {
   "cell_type": "code",
   "execution_count": 52,
   "metadata": {},
   "outputs": [
    {
     "name": "stderr",
     "output_type": "stream",
     "text": [
      "C:\\Users\\amin\\Anaconda3\\lib\\site-packages\\statsmodels\\tsa\\base\\tsa_model.py:576: ValueWarning: No supported index is available. Prediction results will be given with an integer index beginning at `start`.\n",
      "  ValueWarning)\n",
      "C:\\Users\\amin\\Anaconda3\\lib\\site-packages\\statsmodels\\tsa\\base\\tsa_model.py:576: ValueWarning: No supported index is available. Prediction results will be given with an integer index beginning at `start`.\n",
      "  ValueWarning)\n",
      "C:\\Users\\amin\\Anaconda3\\lib\\site-packages\\statsmodels\\tsa\\base\\tsa_model.py:576: ValueWarning: No supported index is available. Prediction results will be given with an integer index beginning at `start`.\n",
      "  ValueWarning)\n"
     ]
    },
    {
     "data": {
      "image/png": "[encoded data removed]",
      "text/plain": [
       "<Figure size 432x288 with 1 Axes>"
      ]
     },
     "metadata": {
      "needs_background": "light"
     },
     "output_type": "display_data"
    }
   ],
   "source": [
    "fig = results.plot_predict(1,44)"
   ]
  },
  {
   "cell_type": "code",
   "execution_count": 53,
   "metadata": {},
   "outputs": [
    {
     "name": "stderr",
     "output_type": "stream",
     "text": [
      "C:\\Users\\amin\\Anaconda3\\lib\\site-packages\\statsmodels\\tsa\\base\\tsa_model.py:215: ValueWarning: An unsupported index was provided and will be ignored when e.g. forecasting.\n",
      "  ' ignored when e.g. forecasting.', ValueWarning)\n",
      "C:\\Users\\amin\\Anaconda3\\lib\\site-packages\\statsmodels\\tsa\\base\\tsa_model.py:215: ValueWarning: An unsupported index was provided and will be ignored when e.g. forecasting.\n",
      "  ' ignored when e.g. forecasting.', ValueWarning)\n",
      "C:\\Users\\amin\\Anaconda3\\lib\\site-packages\\statsmodels\\tsa\\tsatools.py:668: RuntimeWarning: invalid value encountered in true_divide\n",
      "  newparams = ((1-np.exp(-params))/(1+np.exp(-params))).copy()\n",
      "C:\\Users\\amin\\Anaconda3\\lib\\site-packages\\statsmodels\\tsa\\tsatools.py:669: RuntimeWarning: invalid value encountered in true_divide\n",
      "  tmp = ((1-np.exp(-params))/(1+np.exp(-params))).copy()\n",
      "C:\\Users\\amin\\Anaconda3\\lib\\site-packages\\statsmodels\\base\\model.py:492: HessianInversionWarning: Inverting hessian failed, no bse or cov_params available\n",
      "  'available', HessianInversionWarning)\n",
      "C:\\Users\\amin\\Anaconda3\\lib\\site-packages\\statsmodels\\base\\model.py:512: ConvergenceWarning: Maximum Likelihood optimization failed to converge. Check mle_retvals\n",
      "  \"Check mle_retvals\", ConvergenceWarning)\n"
     ]
    },
    {
     "data": {
      "text/plain": [
       "[<matplotlib.lines.Line2D at 0x17721694ac8>]"
      ]
     },
     "execution_count": 53,
     "metadata": {},
     "output_type": "execute_result"
    },
    {
     "data": {
      "image/png": "[encoded data removed]",
      "text/plain": [
       "<Figure size 432x288 with 1 Axes>"
      ]
     },
     "metadata": {
      "needs_background": "light"
     },
     "output_type": "display_data"
    }
   ],
   "source": [
    "modelArima2 = ARIMA(df2, order=(7,1,2))\n",
    "results2 = modelArima2.fit(disp=-2)\n",
    "plt.plot(df_log_exp_decay)\n",
    "plt.plot(results.fittedvalues, color='red')"
   ]
  },
  {
   "cell_type": "code",
   "execution_count": 54,
   "metadata": {},
   "outputs": [
    {
     "name": "stderr",
     "output_type": "stream",
     "text": [
      "C:\\Users\\amin\\Anaconda3\\lib\\site-packages\\statsmodels\\tsa\\base\\tsa_model.py:576: ValueWarning: No supported index is available. Prediction results will be given with an integer index beginning at `start`.\n",
      "  ValueWarning)\n"
     ]
    },
    {
     "ename": "NameError",
     "evalue": "name 'qq' is not defined",
     "output_type": "error",
     "traceback": [
      "\u001b[1;31m---------------------------------------------------------------------------\u001b[0m",
      "\u001b[1;31mNameError\u001b[0m                                 Traceback (most recent call last)",
      "\u001b[1;32m<ipython-input-54-294ff7e45f38>\u001b[0m in \u001b[0;36m<module>\u001b[1;34m\u001b[0m\n\u001b[0;32m      1\u001b[0m \u001b[1;32mfrom\u001b[0m \u001b[0mstatistics\u001b[0m \u001b[1;32mimport\u001b[0m \u001b[0mmean\u001b[0m\u001b[1;33m\u001b[0m\u001b[1;33m\u001b[0m\u001b[0m\n\u001b[1;32m----> 2\u001b[1;33m \u001b[0mnp\u001b[0m\u001b[1;33m.\u001b[0m\u001b[0mexp\u001b[0m\u001b[1;33m(\u001b[0m\u001b[0mresults\u001b[0m\u001b[1;33m.\u001b[0m\u001b[0mpredict\u001b[0m\u001b[1;33m(\u001b[0m\u001b[1;36m1\u001b[0m\u001b[1;33m,\u001b[0m\u001b[1;36m39\u001b[0m\u001b[1;33m)\u001b[0m\u001b[1;33m+\u001b[0m\u001b[0mmean\u001b[0m\u001b[1;33m(\u001b[0m\u001b[0mqq\u001b[0m\u001b[1;33m)\u001b[0m\u001b[1;33m)\u001b[0m\u001b[1;33m[\u001b[0m\u001b[1;36m38\u001b[0m\u001b[1;33m]\u001b[0m\u001b[1;33m\u001b[0m\u001b[1;33m\u001b[0m\u001b[0m\n\u001b[0m",
      "\u001b[1;31mNameError\u001b[0m: name 'qq' is not defined"
     ]
    }
   ],
   "source": [
    "from statistics import mean\n",
    "np.exp(results.predict(1,39)+mean(qq))[38]"
   ]
  },
  {
   "cell_type": "code",
   "execution_count": null,
   "metadata": {},
   "outputs": [],
   "source": []
  },
  {
   "cell_type": "code",
   "execution_count": 55,
   "metadata": {},
   "outputs": [],
   "source": [
    "@anvil.server.callable\n",
    "def v(date,mois):\n",
    "    dam=str(date)\n",
    "    mamp=str(mois)\n",
    "    if date==2017:\n",
    "        e=mois\n",
    "    elif date==2018:\n",
    "        e=mois+12\n",
    "    elif date==2019:\n",
    "        e=mois+24\n",
    "    else:\n",
    "        Mois=int(mois)\n",
    "        date=int(date)\n",
    "        a=date-2017\n",
    "        e=Mois+(a*12)\n",
    "    \n",
    "    rolling_mean_exp_decay = df_log.ewm(halflife=12, min_periods=0, adjust=True).mean()\n",
    "    df_log_exp_decay = df_log - rolling_mean_exp_decay\n",
    "    df_log_exp_decay.dropna(inplace=True)\n",
    "    rolling_mean_exp_decay\n",
    "    \n",
    "    if e<36:\n",
    "        x1=str(round(np.exp(results.predict(1,e)+rolling_mean_exp_decay['Nombre_de_sinistre'])[e-1]) )\n",
    "        return 'the expected number of is accidents  for the date '+mamp+'/'+dam +' is '+x1\n",
    "                \n",
    "       \n",
    "    else :\n",
    "        x2=str(round(np.exp(results.predict(1,e)+mean(rolling_mean_exp_decay['Nombre_de_sinistre']))[e-1]))\n",
    "        return 'the expected number of is accidents  for the date '+mamp+'/'+dam +' is '+x2\n",
    "    \n"
   ]
  },
  {
   "cell_type": "markdown",
   "metadata": {},
   "source": [
    "regression lineaire\n"
   ]
  },
  {
   "cell_type": "code",
   "execution_count": 56,
   "metadata": {},
   "outputs": [],
   "source": [
    "import numpy as np\n",
    "from matplotlib import pyplot as plt\n",
    "import pandas as pd\n",
    "import seaborn as sns\n",
    "import warnings\n",
    "from sklearn.ensemble import RandomForestRegressor\n",
    "from sklearn.model_selection import GridSearchCV \n",
    "import sklearn.metrics as metrics\n",
    "warnings.filterwarnings('ignore')"
   ]
  },
  {
   "cell_type": "code",
   "execution_count": 57,
   "metadata": {},
   "outputs": [],
   "source": [
    "#importation des données /chargement du fichier\n",
    "import pandas  as pd\n",
    "df_cga_prediction = pd.read_excel (r'C:\\Users\\amin\\Downloads\\amine.xlsx')\n",
    "df3=df_cga_prediction\n",
    "pd.set_option('display.max_columns',88)"
   ]
  },
  {
   "cell_type": "code",
   "execution_count": 58,
   "metadata": {},
   "outputs": [],
   "source": [
    "from sklearn.model_selection import train_test_split\n",
    "\n",
    "X=df_cga_prediction[[ 'Mois','Ann_e','precipitation','WindVitesse','Temperature']]  # Features\n",
    "y=df_cga_prediction['Nombre_de_sinistre']  # Labels\n",
    "\n",
    "X_train, X_test, y_train, y_test = train_test_split(X, y, test_size=0.3)"
   ]
  },
  {
   "cell_type": "code",
   "execution_count": 59,
   "metadata": {},
   "outputs": [],
   "source": [
    "@anvil.server.callable\n",
    "def evalw(Mois,Ann_e,precipitation,WindVitesse,Temperature):\n",
    "    Mois=int(Mois)\n",
    "    Ann_e=int(Ann_e)\n",
    "    a=Ann_e-2017\n",
    "    m=Mois+(a*12)\n",
    "    predictr=[m,Ann_e,precipitation,WindVitesse,Temperature]\n",
    "    features = np.array(predictr)\n",
    "    predictr=features.reshape(1,-1)\n",
    "    print(m)\n",
    "    print(a)\n",
    "    x=str(round(g.predict(predictr)[0]))\n",
    "    return 'the predicted number of Accident is '+x\n",
    "  "
   ]
  },
  {
   "cell_type": "code",
   "execution_count": 60,
   "metadata": {},
   "outputs": [],
   "source": [
    "def evaluate(model):\n",
    "   \n",
    "    model.fit(X_train,y_train)\n",
    "    ypred=model.predict(X_test)\n",
    "    explained_variance=metrics.explained_variance_score(y_test, ypred)\n",
    "    mean_absolute_error=metrics.mean_absolute_error(y_test, ypred)\n",
    "    mse=metrics.mean_squared_error(y_test, ypred) \n",
    "    mean_squared_log_error=metrics.mean_squared_log_error(y_test, ypred)\n",
    "    median_absolute_error=metrics.median_absolute_error(y_test, ypred)\n",
    "    r2=metrics.r2_score(y_test, ypred)\n",
    "    print(model.__class__.__name__)\n",
    "    print('explained_variance: ', round(explained_variance,4))    \n",
    "    print('mean_squared_log_error: ', round(mean_squared_log_error,4))\n",
    "    print('r2: ', round(r2,4))\n",
    "    print('MAE: ', round(mean_absolute_error,4))\n",
    "    print('MSE: ', round(mse,4))\n",
    "    print('RMSE: ', round(np.sqrt(mse),4))\n",
    "    plt.figure(figsize=(15,5))\n",
    "    plt.subplot(1,2,1)\n",
    "    \n",
    "    sns.regplot(y_test,ypred)\n",
    "    c = [i for i in range(1,len(y_test)+1,1)]\n",
    "    plt.subplot(1,2,2)\n",
    "    plt.plot(c,y_test, color=\"blue\", linewidth=2.5, linestyle=\"-\")\n",
    "    plt.plot(c,ypred, color=\"red\",  linewidth=2.5, linestyle=\"-\") \n",
    "    plt.suptitle('Actual and Predicted', fontsize=20)             \n",
    "    plt.xlabel('Test Set', fontsize=18)                           \n",
    "    plt.ylabel('target', fontsize=16) \n",
    "    plt.show()"
   ]
  },
  {
   "cell_type": "code",
   "execution_count": 61,
   "metadata": {},
   "outputs": [
    {
     "name": "stdout",
     "output_type": "stream",
     "text": [
      "RandomForestRegressor\n",
      "explained_variance:  0.2175\n",
      "mean_squared_log_error:  0.0391\n",
      "r2:  0.1711\n",
      "MAE:  1026.5595\n",
      "MSE:  1602030.3459\n",
      "RMSE:  1265.7134\n"
     ]
    },
    {
     "data": {
      "image/png": "[encoded data removed]",
      "text/plain": [
       "<Figure size 1080x360 with 2 Axes>"
      ]
     },
     "metadata": {
      "needs_background": "light"
     },
     "output_type": "display_data"
    }
   ],
   "source": [
    "gridRandom=RandomForestRegressor(max_depth=6, max_features='auto', n_estimators=200,random_state=0)\n",
    "g=gridRandom.fit(X_train,y_train)\n",
    "\n",
    "evaluate(gridRandom)\n",
    "testRandom=gridRandom.score(X_test,y_test)\n",
    "trainRandom=gridRandom.score(X_train,y_train)"
   ]
  },
  {
   "cell_type": "code",
   "execution_count": 62,
   "metadata": {},
   "outputs": [
    {
     "name": "stdout",
     "output_type": "stream",
     "text": [
      "1\n",
      "0\n"
     ]
    },
    {
     "data": {
      "text/plain": [
       "'the predicted number of Accident is 8501.0'"
      ]
     },
     "execution_count": 62,
     "metadata": {},
     "output_type": "execute_result"
    }
   ],
   "source": [
    "o=evalw(1,2017,0.6,23,11)\n",
    "o"
   ]
  },
  {
   "cell_type": "code",
   "execution_count": 63,
   "metadata": {},
   "outputs": [
    {
     "data": {
      "text/plain": [
       "array([ 1,  2,  3,  4,  5,  6,  7,  8,  9, 10, 11, 12, 13, 14, 15, 16, 17,\n",
       "       18, 19, 20, 21, 22, 23, 24, 25, 26, 27, 28, 29, 30, 31, 32, 33, 34,\n",
       "       35, 36], dtype=int64)"
      ]
     },
     "execution_count": 63,
     "metadata": {},
     "output_type": "execute_result"
    }
   ],
   "source": [
    "X['Mois'].unique()"
   ]
  },
  {
   "cell_type": "code",
   "execution_count": 64,
   "metadata": {},
   "outputs": [
    {
     "data": {
      "text/html": [
       "<div>\n",
       "<style scoped>\n",
       "    .dataframe tbody tr th:only-of-type {\n",
       "        vertical-align: middle;\n",
       "    }\n",
       "\n",
       "    .dataframe tbody tr th {\n",
       "        vertical-align: top;\n",
       "    }\n",
       "\n",
       "    .dataframe thead th {\n",
       "        text-align: right;\n",
       "    }\n",
       "</style>\n",
       "<table border=\"1\" class=\"dataframe\">\n",
       "  <thead>\n",
       "    <tr style=\"text-align: right;\">\n",
       "      <th></th>\n",
       "      <th>Mois</th>\n",
       "      <th>Ann_e</th>\n",
       "      <th>precipitation</th>\n",
       "      <th>WindVitesse</th>\n",
       "      <th>Temperature</th>\n",
       "    </tr>\n",
       "  </thead>\n",
       "  <tbody>\n",
       "    <tr>\n",
       "      <td>0</td>\n",
       "      <td>1</td>\n",
       "      <td>2017</td>\n",
       "      <td>0.668683</td>\n",
       "      <td>23.240591</td>\n",
       "      <td>11.340726</td>\n",
       "    </tr>\n",
       "    <tr>\n",
       "      <td>1</td>\n",
       "      <td>2</td>\n",
       "      <td>2017</td>\n",
       "      <td>0.574702</td>\n",
       "      <td>21.293155</td>\n",
       "      <td>14.913690</td>\n",
       "    </tr>\n",
       "    <tr>\n",
       "      <td>2</td>\n",
       "      <td>3</td>\n",
       "      <td>2017</td>\n",
       "      <td>0.240860</td>\n",
       "      <td>22.474462</td>\n",
       "      <td>16.890457</td>\n",
       "    </tr>\n",
       "    <tr>\n",
       "      <td>3</td>\n",
       "      <td>4</td>\n",
       "      <td>2017</td>\n",
       "      <td>0.358056</td>\n",
       "      <td>22.419444</td>\n",
       "      <td>19.143750</td>\n",
       "    </tr>\n",
       "    <tr>\n",
       "      <td>4</td>\n",
       "      <td>5</td>\n",
       "      <td>2017</td>\n",
       "      <td>0.164247</td>\n",
       "      <td>22.633065</td>\n",
       "      <td>24.682796</td>\n",
       "    </tr>\n",
       "    <tr>\n",
       "      <td>5</td>\n",
       "      <td>6</td>\n",
       "      <td>2017</td>\n",
       "      <td>0.236250</td>\n",
       "      <td>20.297222</td>\n",
       "      <td>29.047917</td>\n",
       "    </tr>\n",
       "    <tr>\n",
       "      <td>6</td>\n",
       "      <td>7</td>\n",
       "      <td>2017</td>\n",
       "      <td>0.043145</td>\n",
       "      <td>22.419355</td>\n",
       "      <td>31.493952</td>\n",
       "    </tr>\n",
       "    <tr>\n",
       "      <td>7</td>\n",
       "      <td>8</td>\n",
       "      <td>2017</td>\n",
       "      <td>0.050403</td>\n",
       "      <td>19.340054</td>\n",
       "      <td>32.131720</td>\n",
       "    </tr>\n",
       "    <tr>\n",
       "      <td>8</td>\n",
       "      <td>9</td>\n",
       "      <td>2017</td>\n",
       "      <td>0.214861</td>\n",
       "      <td>21.227778</td>\n",
       "      <td>27.203472</td>\n",
       "    </tr>\n",
       "    <tr>\n",
       "      <td>9</td>\n",
       "      <td>10</td>\n",
       "      <td>2017</td>\n",
       "      <td>0.615054</td>\n",
       "      <td>18.736559</td>\n",
       "      <td>22.399866</td>\n",
       "    </tr>\n",
       "    <tr>\n",
       "      <td>10</td>\n",
       "      <td>11</td>\n",
       "      <td>2017</td>\n",
       "      <td>0.808611</td>\n",
       "      <td>22.984722</td>\n",
       "      <td>17.556250</td>\n",
       "    </tr>\n",
       "    <tr>\n",
       "      <td>11</td>\n",
       "      <td>12</td>\n",
       "      <td>2017</td>\n",
       "      <td>0.446505</td>\n",
       "      <td>23.744624</td>\n",
       "      <td>13.290995</td>\n",
       "    </tr>\n",
       "    <tr>\n",
       "      <td>12</td>\n",
       "      <td>13</td>\n",
       "      <td>2018</td>\n",
       "      <td>0.169624</td>\n",
       "      <td>24.209677</td>\n",
       "      <td>14.814516</td>\n",
       "    </tr>\n",
       "    <tr>\n",
       "      <td>13</td>\n",
       "      <td>14</td>\n",
       "      <td>2018</td>\n",
       "      <td>0.710268</td>\n",
       "      <td>23.550595</td>\n",
       "      <td>13.119048</td>\n",
       "    </tr>\n",
       "    <tr>\n",
       "      <td>14</td>\n",
       "      <td>15</td>\n",
       "      <td>2018</td>\n",
       "      <td>0.545565</td>\n",
       "      <td>28.805108</td>\n",
       "      <td>17.496640</td>\n",
       "    </tr>\n",
       "    <tr>\n",
       "      <td>15</td>\n",
       "      <td>16</td>\n",
       "      <td>2018</td>\n",
       "      <td>0.359306</td>\n",
       "      <td>23.080556</td>\n",
       "      <td>19.950000</td>\n",
       "    </tr>\n",
       "    <tr>\n",
       "      <td>16</td>\n",
       "      <td>17</td>\n",
       "      <td>2018</td>\n",
       "      <td>0.483468</td>\n",
       "      <td>23.103495</td>\n",
       "      <td>22.336694</td>\n",
       "    </tr>\n",
       "    <tr>\n",
       "      <td>17</td>\n",
       "      <td>18</td>\n",
       "      <td>2018</td>\n",
       "      <td>0.093333</td>\n",
       "      <td>23.229167</td>\n",
       "      <td>27.157639</td>\n",
       "    </tr>\n",
       "    <tr>\n",
       "      <td>18</td>\n",
       "      <td>19</td>\n",
       "      <td>2018</td>\n",
       "      <td>0.022177</td>\n",
       "      <td>21.125000</td>\n",
       "      <td>32.354839</td>\n",
       "    </tr>\n",
       "    <tr>\n",
       "      <td>19</td>\n",
       "      <td>20</td>\n",
       "      <td>2018</td>\n",
       "      <td>0.537903</td>\n",
       "      <td>17.985215</td>\n",
       "      <td>29.547715</td>\n",
       "    </tr>\n",
       "    <tr>\n",
       "      <td>20</td>\n",
       "      <td>21</td>\n",
       "      <td>2018</td>\n",
       "      <td>0.375972</td>\n",
       "      <td>19.490278</td>\n",
       "      <td>28.550694</td>\n",
       "    </tr>\n",
       "    <tr>\n",
       "      <td>21</td>\n",
       "      <td>22</td>\n",
       "      <td>2018</td>\n",
       "      <td>1.344892</td>\n",
       "      <td>22.158602</td>\n",
       "      <td>23.312500</td>\n",
       "    </tr>\n",
       "    <tr>\n",
       "      <td>22</td>\n",
       "      <td>23</td>\n",
       "      <td>2018</td>\n",
       "      <td>0.477778</td>\n",
       "      <td>20.770833</td>\n",
       "      <td>18.725000</td>\n",
       "    </tr>\n",
       "    <tr>\n",
       "      <td>23</td>\n",
       "      <td>24</td>\n",
       "      <td>2018</td>\n",
       "      <td>0.263441</td>\n",
       "      <td>21.206989</td>\n",
       "      <td>15.217742</td>\n",
       "    </tr>\n",
       "    <tr>\n",
       "      <td>24</td>\n",
       "      <td>25</td>\n",
       "      <td>2019</td>\n",
       "      <td>0.169624</td>\n",
       "      <td>24.209677</td>\n",
       "      <td>14.814516</td>\n",
       "    </tr>\n",
       "    <tr>\n",
       "      <td>25</td>\n",
       "      <td>26</td>\n",
       "      <td>2019</td>\n",
       "      <td>0.710268</td>\n",
       "      <td>23.550595</td>\n",
       "      <td>13.119048</td>\n",
       "    </tr>\n",
       "    <tr>\n",
       "      <td>26</td>\n",
       "      <td>27</td>\n",
       "      <td>2019</td>\n",
       "      <td>0.545565</td>\n",
       "      <td>28.805108</td>\n",
       "      <td>17.496640</td>\n",
       "    </tr>\n",
       "    <tr>\n",
       "      <td>27</td>\n",
       "      <td>28</td>\n",
       "      <td>2019</td>\n",
       "      <td>0.359306</td>\n",
       "      <td>23.080556</td>\n",
       "      <td>19.950000</td>\n",
       "    </tr>\n",
       "    <tr>\n",
       "      <td>28</td>\n",
       "      <td>29</td>\n",
       "      <td>2019</td>\n",
       "      <td>0.483468</td>\n",
       "      <td>23.103495</td>\n",
       "      <td>22.336694</td>\n",
       "    </tr>\n",
       "    <tr>\n",
       "      <td>29</td>\n",
       "      <td>30</td>\n",
       "      <td>2019</td>\n",
       "      <td>0.093333</td>\n",
       "      <td>23.229167</td>\n",
       "      <td>27.157639</td>\n",
       "    </tr>\n",
       "    <tr>\n",
       "      <td>30</td>\n",
       "      <td>31</td>\n",
       "      <td>2019</td>\n",
       "      <td>0.022177</td>\n",
       "      <td>21.125000</td>\n",
       "      <td>32.354839</td>\n",
       "    </tr>\n",
       "    <tr>\n",
       "      <td>31</td>\n",
       "      <td>32</td>\n",
       "      <td>2019</td>\n",
       "      <td>0.537903</td>\n",
       "      <td>17.985215</td>\n",
       "      <td>29.547715</td>\n",
       "    </tr>\n",
       "    <tr>\n",
       "      <td>32</td>\n",
       "      <td>33</td>\n",
       "      <td>2019</td>\n",
       "      <td>0.375972</td>\n",
       "      <td>19.490278</td>\n",
       "      <td>28.550694</td>\n",
       "    </tr>\n",
       "    <tr>\n",
       "      <td>33</td>\n",
       "      <td>34</td>\n",
       "      <td>2019</td>\n",
       "      <td>1.344892</td>\n",
       "      <td>22.158602</td>\n",
       "      <td>23.312500</td>\n",
       "    </tr>\n",
       "    <tr>\n",
       "      <td>34</td>\n",
       "      <td>35</td>\n",
       "      <td>2019</td>\n",
       "      <td>0.477778</td>\n",
       "      <td>20.770833</td>\n",
       "      <td>18.725000</td>\n",
       "    </tr>\n",
       "    <tr>\n",
       "      <td>35</td>\n",
       "      <td>36</td>\n",
       "      <td>2019</td>\n",
       "      <td>0.263441</td>\n",
       "      <td>21.206989</td>\n",
       "      <td>15.217742</td>\n",
       "    </tr>\n",
       "  </tbody>\n",
       "</table>\n",
       "</div>"
      ],
      "text/plain": [
       "    Mois  Ann_e  precipitation  WindVitesse  Temperature\n",
       "0      1   2017       0.668683    23.240591    11.340726\n",
       "1      2   2017       0.574702    21.293155    14.913690\n",
       "2      3   2017       0.240860    22.474462    16.890457\n",
       "3      4   2017       0.358056    22.419444    19.143750\n",
       "4      5   2017       0.164247    22.633065    24.682796\n",
       "5      6   2017       0.236250    20.297222    29.047917\n",
       "6      7   2017       0.043145    22.419355    31.493952\n",
       "7      8   2017       0.050403    19.340054    32.131720\n",
       "8      9   2017       0.214861    21.227778    27.203472\n",
       "9     10   2017       0.615054    18.736559    22.399866\n",
       "10    11   2017       0.808611    22.984722    17.556250\n",
       "11    12   2017       0.446505    23.744624    13.290995\n",
       "12    13   2018       0.169624    24.209677    14.814516\n",
       "13    14   2018       0.710268    23.550595    13.119048\n",
       "14    15   2018       0.545565    28.805108    17.496640\n",
       "15    16   2018       0.359306    23.080556    19.950000\n",
       "16    17   2018       0.483468    23.103495    22.336694\n",
       "17    18   2018       0.093333    23.229167    27.157639\n",
       "18    19   2018       0.022177    21.125000    32.354839\n",
       "19    20   2018       0.537903    17.985215    29.547715\n",
       "20    21   2018       0.375972    19.490278    28.550694\n",
       "21    22   2018       1.344892    22.158602    23.312500\n",
       "22    23   2018       0.477778    20.770833    18.725000\n",
       "23    24   2018       0.263441    21.206989    15.217742\n",
       "24    25   2019       0.169624    24.209677    14.814516\n",
       "25    26   2019       0.710268    23.550595    13.119048\n",
       "26    27   2019       0.545565    28.805108    17.496640\n",
       "27    28   2019       0.359306    23.080556    19.950000\n",
       "28    29   2019       0.483468    23.103495    22.336694\n",
       "29    30   2019       0.093333    23.229167    27.157639\n",
       "30    31   2019       0.022177    21.125000    32.354839\n",
       "31    32   2019       0.537903    17.985215    29.547715\n",
       "32    33   2019       0.375972    19.490278    28.550694\n",
       "33    34   2019       1.344892    22.158602    23.312500\n",
       "34    35   2019       0.477778    20.770833    18.725000\n",
       "35    36   2019       0.263441    21.206989    15.217742"
      ]
     },
     "execution_count": 64,
     "metadata": {},
     "output_type": "execute_result"
    }
   ],
   "source": [
    "X"
   ]
  },
  {
   "cell_type": "code",
   "execution_count": 65,
   "metadata": {},
   "outputs": [],
   "source": [
    "m=[1,2017,0.66,23,11]\n",
    "features = np.array(m)\n",
    "t=features.reshape(1, -1)"
   ]
  },
  {
   "cell_type": "markdown",
   "metadata": {},
   "source": [
    "detection fraude\n"
   ]
  },
  {
   "cell_type": "code",
   "execution_count": 66,
   "metadata": {},
   "outputs": [],
   "source": [
    "\n",
    "import pandas  as pandas\n",
    "df5 = pandas.read_excel (r'C:\\Users\\amin\\Downloads\\Assure_sin.xlsx')\n",
    "a=df5\n",
    "a=a.drop(columns=['AssureId', 'CodePostal', 'gouvernorat','tauxdesinstralite'])"
   ]
  },
  {
   "cell_type": "code",
   "execution_count": 67,
   "metadata": {},
   "outputs": [],
   "source": [
    "df5=df5.replace('Non',0)\n",
    "df5=df5.replace('oui',1)"
   ]
  },
  {
   "cell_type": "code",
   "execution_count": 68,
   "metadata": {},
   "outputs": [],
   "source": [
    "a=df5.drop(columns=['AssureId', 'CodePostal', 'gouvernorat','Sinistrer'])"
   ]
  },
  {
   "cell_type": "code",
   "execution_count": 69,
   "metadata": {},
   "outputs": [],
   "source": [
    "import numpy as np\n",
    "import matplotlib.pyplot as plt\n",
    "from sklearn.neighbors import LocalOutlierFactor\n",
    "m = LocalOutlierFactor(n_neighbors=20, contamination=0.0009)\n"
   ]
  },
  {
   "cell_type": "code",
   "execution_count": 70,
   "metadata": {},
   "outputs": [],
   "source": [
    "o=m.fit(a)\n",
    "p=m.fit_predict(a)==-1"
   ]
  },
  {
   "cell_type": "code",
   "execution_count": 71,
   "metadata": {},
   "outputs": [],
   "source": [
    "from anvil.tables import app_tables"
   ]
  },
  {
   "cell_type": "code",
   "execution_count": 72,
   "metadata": {},
   "outputs": [],
   "source": [
    "@anvil.server.callable\n",
    "def a():\n",
    "        \n",
    "        mp=df5[p]['AssureId']\n",
    "        mp =np.array(mp)\n",
    "        va=str(mp[1])\n",
    "        for i in range(1,65):\n",
    "            va=str(mp[i])+\",\"+va\n",
    "        return   va\n",
    "    \n"
   ]
  },
  {
   "cell_type": "code",
   "execution_count": 73,
   "metadata": {},
   "outputs": [],
   "source": [
    "@anvil.server.callable\n",
    "def ad():\n",
    "        \n",
    "        mp=df5[p]['AssureId']\n",
    "        mp =np.array(mp)\n",
    "        q=len(mp)\n",
    "        q=str(q)\n",
    "        return  'the number of client that are suspected with fraud :'+ q\n",
    "    \n"
   ]
  },
  {
   "cell_type": "code",
   "execution_count": 74,
   "metadata": {},
   "outputs": [
    {
     "data": {
      "text/plain": [
       "'1559857,1298974,1073049,1050989,1034054,1033762,1008218,1007412,974653,685281,526706,526217,521588,494197,482005,449567,426938,387065,377199,375870,358704,352363,347515,333796,332021,331511,331125,331063,330474,330230,328924,326825,326255,322646,305165,286546,276444,274008,271533,269868,269584,261230,260222,255495,250087,249738,245142,235848,225126,215677,208638,207216,180582,179983,176492,161899,156608,129978,119900,97690,88829,88816,60593,29172,29172'"
      ]
     },
     "execution_count": 74,
     "metadata": {},
     "output_type": "execute_result"
    }
   ],
   "source": [
    "a()"
   ]
  },
  {
   "cell_type": "code",
   "execution_count": 75,
   "metadata": {},
   "outputs": [
    {
     "data": {
      "text/plain": [
       "'the number of client that are suspected with fraud :65'"
      ]
     },
     "execution_count": 75,
     "metadata": {},
     "output_type": "execute_result"
    }
   ],
   "source": [
    "ad()"
   ]
  },
  {
   "cell_type": "code",
   "execution_count": 76,
   "metadata": {},
   "outputs": [
    {
     "data": {
      "text/html": [
       "<div>\n",
       "<style scoped>\n",
       "    .dataframe tbody tr th:only-of-type {\n",
       "        vertical-align: middle;\n",
       "    }\n",
       "\n",
       "    .dataframe tbody tr th {\n",
       "        vertical-align: top;\n",
       "    }\n",
       "\n",
       "    .dataframe thead th {\n",
       "        text-align: right;\n",
       "    }\n",
       "</style>\n",
       "<table border=\"1\" class=\"dataframe\">\n",
       "  <thead>\n",
       "    <tr style=\"text-align: right;\">\n",
       "      <th></th>\n",
       "      <th>AssureId</th>\n",
       "      <th>CodePostal</th>\n",
       "      <th>Age</th>\n",
       "      <th>gouvernorat</th>\n",
       "      <th>ClasseBonnusMalus</th>\n",
       "      <th>nb sinistre</th>\n",
       "      <th>sexe</th>\n",
       "      <th>Sinistrer</th>\n",
       "      <th>tauxdesinstralite</th>\n",
       "    </tr>\n",
       "  </thead>\n",
       "  <tbody>\n",
       "    <tr>\n",
       "      <td>0</td>\n",
       "      <td>5272</td>\n",
       "      <td>NaN</td>\n",
       "      <td>19</td>\n",
       "      <td>medenine</td>\n",
       "      <td>2</td>\n",
       "      <td>1</td>\n",
       "      <td>0</td>\n",
       "      <td>1</td>\n",
       "      <td>1</td>\n",
       "    </tr>\n",
       "    <tr>\n",
       "      <td>1</td>\n",
       "      <td>5274</td>\n",
       "      <td>NaN</td>\n",
       "      <td>69</td>\n",
       "      <td>el-kef</td>\n",
       "      <td>2</td>\n",
       "      <td>2</td>\n",
       "      <td>1</td>\n",
       "      <td>1</td>\n",
       "      <td>1</td>\n",
       "    </tr>\n",
       "    <tr>\n",
       "      <td>2</td>\n",
       "      <td>5303</td>\n",
       "      <td>NaN</td>\n",
       "      <td>70</td>\n",
       "      <td>zaghouan</td>\n",
       "      <td>5</td>\n",
       "      <td>2</td>\n",
       "      <td>0</td>\n",
       "      <td>1</td>\n",
       "      <td>1</td>\n",
       "    </tr>\n",
       "    <tr>\n",
       "      <td>3</td>\n",
       "      <td>5339</td>\n",
       "      <td>NaN</td>\n",
       "      <td>71</td>\n",
       "      <td>siliana</td>\n",
       "      <td>3</td>\n",
       "      <td>2</td>\n",
       "      <td>1</td>\n",
       "      <td>1</td>\n",
       "      <td>1</td>\n",
       "    </tr>\n",
       "    <tr>\n",
       "      <td>4</td>\n",
       "      <td>5354</td>\n",
       "      <td>NaN</td>\n",
       "      <td>44</td>\n",
       "      <td>sousse</td>\n",
       "      <td>8</td>\n",
       "      <td>1</td>\n",
       "      <td>1</td>\n",
       "      <td>1</td>\n",
       "      <td>1</td>\n",
       "    </tr>\n",
       "    <tr>\n",
       "      <td>...</td>\n",
       "      <td>...</td>\n",
       "      <td>...</td>\n",
       "      <td>...</td>\n",
       "      <td>...</td>\n",
       "      <td>...</td>\n",
       "      <td>...</td>\n",
       "      <td>...</td>\n",
       "      <td>...</td>\n",
       "      <td>...</td>\n",
       "    </tr>\n",
       "    <tr>\n",
       "      <td>136603</td>\n",
       "      <td>1740119</td>\n",
       "      <td>NaN</td>\n",
       "      <td>34</td>\n",
       "      <td>manouba</td>\n",
       "      <td>7</td>\n",
       "      <td>1</td>\n",
       "      <td>0</td>\n",
       "      <td>1</td>\n",
       "      <td>1</td>\n",
       "    </tr>\n",
       "    <tr>\n",
       "      <td>136604</td>\n",
       "      <td>1740314</td>\n",
       "      <td>NaN</td>\n",
       "      <td>19</td>\n",
       "      <td>sidi-bouzid</td>\n",
       "      <td>9</td>\n",
       "      <td>1</td>\n",
       "      <td>0</td>\n",
       "      <td>1</td>\n",
       "      <td>1</td>\n",
       "    </tr>\n",
       "    <tr>\n",
       "      <td>136605</td>\n",
       "      <td>1780492</td>\n",
       "      <td>NaN</td>\n",
       "      <td>48</td>\n",
       "      <td>benarous</td>\n",
       "      <td>11</td>\n",
       "      <td>1</td>\n",
       "      <td>0</td>\n",
       "      <td>1</td>\n",
       "      <td>1</td>\n",
       "    </tr>\n",
       "    <tr>\n",
       "      <td>136606</td>\n",
       "      <td>1783957</td>\n",
       "      <td>NaN</td>\n",
       "      <td>47</td>\n",
       "      <td>el-kef</td>\n",
       "      <td>10</td>\n",
       "      <td>1</td>\n",
       "      <td>1</td>\n",
       "      <td>1</td>\n",
       "      <td>1</td>\n",
       "    </tr>\n",
       "    <tr>\n",
       "      <td>136607</td>\n",
       "      <td>1784134</td>\n",
       "      <td>NaN</td>\n",
       "      <td>47</td>\n",
       "      <td>bizerte</td>\n",
       "      <td>11</td>\n",
       "      <td>1</td>\n",
       "      <td>0</td>\n",
       "      <td>1</td>\n",
       "      <td>1</td>\n",
       "    </tr>\n",
       "  </tbody>\n",
       "</table>\n",
       "<p>136608 rows × 9 columns</p>\n",
       "</div>"
      ],
      "text/plain": [
       "        AssureId  CodePostal  Age  gouvernorat  ClasseBonnusMalus  \\\n",
       "0           5272         NaN   19     medenine                  2   \n",
       "1           5274         NaN   69       el-kef                  2   \n",
       "2           5303         NaN   70     zaghouan                  5   \n",
       "3           5339         NaN   71      siliana                  3   \n",
       "4           5354         NaN   44       sousse                  8   \n",
       "...          ...         ...  ...          ...                ...   \n",
       "136603   1740119         NaN   34      manouba                  7   \n",
       "136604   1740314         NaN   19  sidi-bouzid                  9   \n",
       "136605   1780492         NaN   48     benarous                 11   \n",
       "136606   1783957         NaN   47       el-kef                 10   \n",
       "136607   1784134         NaN   47      bizerte                 11   \n",
       "\n",
       "        nb sinistre  sexe  Sinistrer  tauxdesinstralite  \n",
       "0                 1     0          1                  1  \n",
       "1                 2     1          1                  1  \n",
       "2                 2     0          1                  1  \n",
       "3                 2     1          1                  1  \n",
       "4                 1     1          1                  1  \n",
       "...             ...   ...        ...                ...  \n",
       "136603            1     0          1                  1  \n",
       "136604            1     0          1                  1  \n",
       "136605            1     0          1                  1  \n",
       "136606            1     1          1                  1  \n",
       "136607            1     0          1                  1  \n",
       "\n",
       "[136608 rows x 9 columns]"
      ]
     },
     "execution_count": 76,
     "metadata": {},
     "output_type": "execute_result"
    }
   ],
   "source": [
    "df5\n"
   ]
  },
  {
   "cell_type": "code",
   "execution_count": null,
   "metadata": {},
   "outputs": [],
   "source": []
  },
  {
   "cell_type": "code",
   "execution_count": null,
   "metadata": {},
   "outputs": [],
   "source": []
  },
  {
   "cell_type": "code",
   "execution_count": null,
   "metadata": {},
   "outputs": [],
   "source": []
  },
  {
   "cell_type": "code",
   "execution_count": null,
   "metadata": {},
   "outputs": [],
   "source": []
  }
 ],
 "metadata": {
  "kernelspec": {
   "display_name": "Python 3",
   "language": "python",
   "name": "python3"
  },
  "language_info": {
   "codemirror_mode": {
    "name": "ipython",
    "version": 3
   },
   "file_extension": ".py",
   "mimetype": "text/x-python",
   "name": "python",
   "nbconvert_exporter": "python",
   "pygments_lexer": "ipython3",
   "version": "3.7.4"
  }
 },
 "nbformat": 4,
 "nbformat_minor": 2
}
