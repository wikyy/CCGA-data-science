{
 "cells": [
  {
   "cell_type": "code",
   "execution_count": 1,
   "metadata": {
    "colab": {
     "base_uri": "https://localhost:8080/"
    },
    "id": "Am3SfB5p5lan",
    "outputId": "76a703c7-91bc-43a5-fb86-e9cf216d7ff0"
   },
   "outputs": [],
   "source": [
    "\n",
    "import pandas  as pandas\n",
    "df = pandas.read_excel (r'C:\\Users\\amin\\Desktop\\worksop talet\\Nouveau dossier\\TOS_DI-Win32-20200219_1130-V7.3.1\\workspace\\vehiculenonSinstrer.xls')\n"
   ]
  },
  {
   "cell_type": "code",
   "execution_count": 2,
   "metadata": {
    "id": "ndqewHP45lao"
   },
   "outputs": [],
   "source": [
    "import numpy as np\n",
    "import pandas as pd\n",
    "import matplotlib.pyplot as plt\n"
   ]
  },
  {
   "cell_type": "code",
   "execution_count": null,
   "metadata": {},
   "outputs": [],
   "source": []
  },
  {
   "cell_type": "code",
   "execution_count": 3,
   "metadata": {},
   "outputs": [],
   "source": [
    "Voiture=df"
   ]
  },
  {
   "cell_type": "code",
   "execution_count": 4,
   "metadata": {
    "id": "BYTyvTWh5lao"
   },
   "outputs": [],
   "source": [
    "Voiture=Voiture.replace('0',0)\n",
    "Voiture=Voiture.replace('ESSENCE',1)\n",
    "Voiture=Voiture.replace('GASOIL',2)\n",
    "Voiture=Voiture.replace('ESS-GAZ GPL',3)\n",
    "Voiture=Voiture.replace('ELECTRICITE',4)"
   ]
  },
  {
   "cell_type": "code",
   "execution_count": 5,
   "metadata": {},
   "outputs": [
    {
     "data": {
      "text/html": [
       "<div>\n",
       "<style scoped>\n",
       "    .dataframe tbody tr th:only-of-type {\n",
       "        vertical-align: middle;\n",
       "    }\n",
       "\n",
       "    .dataframe tbody tr th {\n",
       "        vertical-align: top;\n",
       "    }\n",
       "\n",
       "    .dataframe thead th {\n",
       "        text-align: right;\n",
       "    }\n",
       "</style>\n",
       "<table border=\"1\" class=\"dataframe\">\n",
       "  <thead>\n",
       "    <tr style=\"text-align: right;\">\n",
       "      <th></th>\n",
       "      <th>Vehicule_id</th>\n",
       "      <th>Marque</th>\n",
       "      <th>UsageVehicule</th>\n",
       "      <th>PuissanceFiscale</th>\n",
       "      <th>Energie</th>\n",
       "      <th>Ptac</th>\n",
       "      <th>DateMiseEnCirculation</th>\n",
       "      <th>CodeMarque</th>\n",
       "      <th>CodeUsage</th>\n",
       "      <th>sinister</th>\n",
       "    </tr>\n",
       "  </thead>\n",
       "  <tbody>\n",
       "    <tr>\n",
       "      <td>0</td>\n",
       "      <td>6390</td>\n",
       "      <td>VOLKSWAGEN</td>\n",
       "      <td>Privé et professionnel</td>\n",
       "      <td>4</td>\n",
       "      <td>1</td>\n",
       "      <td>5</td>\n",
       "      <td>2009</td>\n",
       "      <td>107</td>\n",
       "      <td>1</td>\n",
       "      <td>0</td>\n",
       "    </tr>\n",
       "    <tr>\n",
       "      <td>1</td>\n",
       "      <td>6391</td>\n",
       "      <td>RENAULT</td>\n",
       "      <td>Privé et professionnel</td>\n",
       "      <td>4</td>\n",
       "      <td>1</td>\n",
       "      <td>2</td>\n",
       "      <td>2010</td>\n",
       "      <td>30</td>\n",
       "      <td>1</td>\n",
       "      <td>0</td>\n",
       "    </tr>\n",
       "    <tr>\n",
       "      <td>2</td>\n",
       "      <td>6392</td>\n",
       "      <td>RENAULT</td>\n",
       "      <td>Privé et professionnel</td>\n",
       "      <td>4</td>\n",
       "      <td>1</td>\n",
       "      <td>6</td>\n",
       "      <td>2018</td>\n",
       "      <td>30</td>\n",
       "      <td>1</td>\n",
       "      <td>0</td>\n",
       "    </tr>\n",
       "    <tr>\n",
       "      <td>3</td>\n",
       "      <td>6393</td>\n",
       "      <td>RENAULT</td>\n",
       "      <td>Privé et professionnel</td>\n",
       "      <td>4</td>\n",
       "      <td>1</td>\n",
       "      <td>2</td>\n",
       "      <td>2014</td>\n",
       "      <td>30</td>\n",
       "      <td>1</td>\n",
       "      <td>0</td>\n",
       "    </tr>\n",
       "    <tr>\n",
       "      <td>4</td>\n",
       "      <td>6394</td>\n",
       "      <td>CITROEN</td>\n",
       "      <td>Utilitaire 1 véhicule dont le PTC &lt; 3500 kg (y...</td>\n",
       "      <td>7</td>\n",
       "      <td>2</td>\n",
       "      <td>6</td>\n",
       "      <td>2016</td>\n",
       "      <td>12</td>\n",
       "      <td>5</td>\n",
       "      <td>0</td>\n",
       "    </tr>\n",
       "    <tr>\n",
       "      <td>...</td>\n",
       "      <td>...</td>\n",
       "      <td>...</td>\n",
       "      <td>...</td>\n",
       "      <td>...</td>\n",
       "      <td>...</td>\n",
       "      <td>...</td>\n",
       "      <td>...</td>\n",
       "      <td>...</td>\n",
       "      <td>...</td>\n",
       "      <td>...</td>\n",
       "    </tr>\n",
       "    <tr>\n",
       "      <td>1037754</td>\n",
       "      <td>1110339</td>\n",
       "      <td>ISUZU</td>\n",
       "      <td>Agricole1 véhicule dont le PTC &lt; 3500 kg</td>\n",
       "      <td>17</td>\n",
       "      <td>2</td>\n",
       "      <td>9</td>\n",
       "      <td>2018</td>\n",
       "      <td>376</td>\n",
       "      <td>2</td>\n",
       "      <td>1</td>\n",
       "    </tr>\n",
       "    <tr>\n",
       "      <td>1037755</td>\n",
       "      <td>1110350</td>\n",
       "      <td>ISUZU</td>\n",
       "      <td>Agricole1 véhicule dont le PTC &lt; 3500 kg</td>\n",
       "      <td>10</td>\n",
       "      <td>2</td>\n",
       "      <td>7</td>\n",
       "      <td>2011</td>\n",
       "      <td>376</td>\n",
       "      <td>2</td>\n",
       "      <td>1</td>\n",
       "    </tr>\n",
       "    <tr>\n",
       "      <td>1037756</td>\n",
       "      <td>1110370</td>\n",
       "      <td>NISSAN</td>\n",
       "      <td>Agricole1 véhicule dont le PTC &lt; 3500 kg</td>\n",
       "      <td>13</td>\n",
       "      <td>2</td>\n",
       "      <td>1</td>\n",
       "      <td>2010</td>\n",
       "      <td>338</td>\n",
       "      <td>2</td>\n",
       "      <td>1</td>\n",
       "    </tr>\n",
       "    <tr>\n",
       "      <td>1037757</td>\n",
       "      <td>1110384</td>\n",
       "      <td>PEUGEOT</td>\n",
       "      <td>Privé et professionnel</td>\n",
       "      <td>5</td>\n",
       "      <td>1</td>\n",
       "      <td>9</td>\n",
       "      <td>2017</td>\n",
       "      <td>29</td>\n",
       "      <td>1</td>\n",
       "      <td>1</td>\n",
       "    </tr>\n",
       "    <tr>\n",
       "      <td>1037758</td>\n",
       "      <td>1110387</td>\n",
       "      <td>MITSUBISHI</td>\n",
       "      <td>Agricole1 véhicule dont le PTC &lt; 3500 kg</td>\n",
       "      <td>10</td>\n",
       "      <td>2</td>\n",
       "      <td>4</td>\n",
       "      <td>2007</td>\n",
       "      <td>347</td>\n",
       "      <td>2</td>\n",
       "      <td>1</td>\n",
       "    </tr>\n",
       "  </tbody>\n",
       "</table>\n",
       "<p>1037759 rows × 10 columns</p>\n",
       "</div>"
      ],
      "text/plain": [
       "         Vehicule_id       Marque  \\\n",
       "0               6390   VOLKSWAGEN   \n",
       "1               6391      RENAULT   \n",
       "2               6392      RENAULT   \n",
       "3               6393      RENAULT   \n",
       "4               6394      CITROEN   \n",
       "...              ...          ...   \n",
       "1037754      1110339        ISUZU   \n",
       "1037755      1110350        ISUZU   \n",
       "1037756      1110370       NISSAN   \n",
       "1037757      1110384      PEUGEOT   \n",
       "1037758      1110387   MITSUBISHI   \n",
       "\n",
       "                                             UsageVehicule  PuissanceFiscale  \\\n",
       "0                                   Privé et professionnel                 4   \n",
       "1                                   Privé et professionnel                 4   \n",
       "2                                   Privé et professionnel                 4   \n",
       "3                                   Privé et professionnel                 4   \n",
       "4        Utilitaire 1 véhicule dont le PTC < 3500 kg (y...                 7   \n",
       "...                                                    ...               ...   \n",
       "1037754           Agricole1 véhicule dont le PTC < 3500 kg                17   \n",
       "1037755           Agricole1 véhicule dont le PTC < 3500 kg                10   \n",
       "1037756           Agricole1 véhicule dont le PTC < 3500 kg                13   \n",
       "1037757                             Privé et professionnel                 5   \n",
       "1037758           Agricole1 véhicule dont le PTC < 3500 kg                10   \n",
       "\n",
       "         Energie  Ptac  DateMiseEnCirculation  CodeMarque  CodeUsage  sinister  \n",
       "0              1     5                   2009         107          1         0  \n",
       "1              1     2                   2010          30          1         0  \n",
       "2              1     6                   2018          30          1         0  \n",
       "3              1     2                   2014          30          1         0  \n",
       "4              2     6                   2016          12          5         0  \n",
       "...          ...   ...                    ...         ...        ...       ...  \n",
       "1037754        2     9                   2018         376          2         1  \n",
       "1037755        2     7                   2011         376          2         1  \n",
       "1037756        2     1                   2010         338          2         1  \n",
       "1037757        1     9                   2017          29          1         1  \n",
       "1037758        2     4                   2007         347          2         1  \n",
       "\n",
       "[1037759 rows x 10 columns]"
      ]
     },
     "execution_count": 5,
     "metadata": {},
     "output_type": "execute_result"
    }
   ],
   "source": [
    "Voiture"
   ]
  },
  {
   "cell_type": "code",
   "execution_count": 6,
   "metadata": {},
   "outputs": [
    {
     "name": "stdout",
     "output_type": "stream",
     "text": [
      "<class 'pandas.core.frame.DataFrame'>\n"
     ]
    }
   ],
   "source": [
    "# vérifions le type de Voiture\n",
    "print(type(Voiture))\n"
   ]
  },
  {
   "cell_type": "code",
   "execution_count": 7,
   "metadata": {},
   "outputs": [],
   "source": [
    "Voiture=Voiture.drop(columns=['Vehicule_id', 'Marque', 'UsageVehicule'])\n"
   ]
  },
  {
   "cell_type": "code",
   "execution_count": 8,
   "metadata": {
    "colab": {
     "base_uri": "https://localhost:8080/"
    },
    "id": "ey36wCwA5lao",
    "outputId": "aa3e2223-3623-45ad-9ae0-86ae8b4bd7c3"
   },
   "outputs": [
    {
     "data": {
      "text/plain": [
       "Index(['PuissanceFiscale', 'Energie', 'Ptac', 'DateMiseEnCirculation',\n",
       "       'CodeMarque', 'CodeUsage', 'sinister'],\n",
       "      dtype='object')"
      ]
     },
     "execution_count": 8,
     "metadata": {},
     "output_type": "execute_result"
    }
   ],
   "source": [
    "Voiture.keys()"
   ]
  },
  {
   "cell_type": "markdown",
   "metadata": {
    "id": "NNOgiE6O5lap"
   },
   "source": [
    "- Afficher df"
   ]
  },
  {
   "cell_type": "code",
   "execution_count": 9,
   "metadata": {
    "id": "mi-Q4kyH5lap"
   },
   "outputs": [],
   "source": [
    "y= Voiture['sinister']\n",
    "X=Voiture.drop(columns=['sinister'])\n"
   ]
  },
  {
   "cell_type": "code",
   "execution_count": null,
   "metadata": {
    "id": "LED7jTii5lap"
   },
   "outputs": [],
   "source": [
    "\n"
   ]
  },
  {
   "cell_type": "code",
   "execution_count": 10,
   "metadata": {
    "colab": {
     "base_uri": "https://localhost:8080/"
    },
    "id": "J-PMC3-B5lap",
    "outputId": "4cc7f5d0-91d1-4f58-9feb-5fb3c9556ca3"
   },
   "outputs": [
    {
     "data": {
      "text/plain": [
       "(1037759, 6)"
      ]
     },
     "execution_count": 10,
     "metadata": {},
     "output_type": "execute_result"
    }
   ],
   "source": [
    "X.shape"
   ]
  },
  {
   "cell_type": "code",
   "execution_count": null,
   "metadata": {},
   "outputs": [],
   "source": []
  },
  {
   "cell_type": "code",
   "execution_count": 11,
   "metadata": {
    "colab": {
     "base_uri": "https://localhost:8080/"
    },
    "id": "VRr5Bu545lap",
    "outputId": "017d68fb-5ee0-4baf-e9b9-25f97e85c211"
   },
   "outputs": [
    {
     "data": {
      "text/plain": [
       "(1037759,)"
      ]
     },
     "execution_count": 11,
     "metadata": {},
     "output_type": "execute_result"
    }
   ],
   "source": [
    "y.shape"
   ]
  },
  {
   "cell_type": "code",
   "execution_count": 12,
   "metadata": {
    "id": "Pljs3vxH5lap"
   },
   "outputs": [],
   "source": [
    "from sklearn.model_selection import train_test_split\n",
    "\n",
    "X_train, X_test, y_train, y_test = train_test_split(X, y, train_size=0.7, random_state=2)# random_state=some_number pour garantir que votre split sera toujours le même"
   ]
  },
  {
   "cell_type": "code",
   "execution_count": 13,
   "metadata": {
    "id": "JEKjK5pC5lap"
   },
   "outputs": [],
   "source": [
    "from sklearn.tree import DecisionTreeClassifier\n",
    "from sklearn.multioutput import MultiOutputClassifier\n"
   ]
  },
  {
   "cell_type": "code",
   "execution_count": 21,
   "metadata": {
    "id": "FTox-ilc5lap"
   },
   "outputs": [
    {
     "data": {
      "text/plain": [
       "DecisionTreeClassifier()"
      ]
     },
     "execution_count": 21,
     "metadata": {},
     "output_type": "execute_result"
    }
   ],
   "source": [
    "DecisionTreeClassifier()\n"
   ]
  },
  {
   "cell_type": "code",
   "execution_count": 22,
   "metadata": {
    "id": "9jee3R925lap"
   },
   "outputs": [],
   "source": [
    "dt = DecisionTreeClassifier(random_state=0)\n",
    "classifier = MultiOutputClassifier(dt, n_jobs=-1)"
   ]
  },
  {
   "cell_type": "code",
   "execution_count": 23,
   "metadata": {
    "colab": {
     "base_uri": "https://localhost:8080/"
    },
    "id": "_J0-B6yA5laq",
    "outputId": "9d2eae22-debd-4701-a51d-1a03686a7782"
   },
   "outputs": [
    {
     "data": {
      "text/plain": [
       "DecisionTreeClassifier(random_state=0)"
      ]
     },
     "execution_count": 23,
     "metadata": {},
     "output_type": "execute_result"
    }
   ],
   "source": [
    "# y_train.values_count()\n",
    "dt.fit(X_train, y_train)"
   ]
  },
  {
   "cell_type": "code",
   "execution_count": 24,
   "metadata": {
    "colab": {
     "base_uri": "https://localhost:8080/"
    },
    "id": "IGuYD4Ea5laq",
    "outputId": "059337af-362b-47b2-8441-54179728084a"
   },
   "outputs": [
    {
     "name": "stdout",
     "output_type": "stream",
     "text": [
      "Le train score est : 0.865568787675636\n",
      "Le test score est : 0.842465181416384\n"
     ]
    }
   ],
   "source": [
    "print('Le train score est :', dt.score(X_train, y_train))\n",
    "print('Le test score est :', dt.score(X_test, y_test))"
   ]
  },
  {
   "cell_type": "code",
   "execution_count": 25,
   "metadata": {
    "colab": {
     "base_uri": "https://localhost:8080/"
    },
    "id": "NDeEQie05laq",
    "outputId": "a9a70bc1-8938-4748-86c7-70ab96dc0556"
   },
   "outputs": [
    {
     "data": {
      "text/plain": [
       "(311328,)"
      ]
     },
     "execution_count": 25,
     "metadata": {},
     "output_type": "execute_result"
    }
   ],
   "source": [
    "y_test.shape"
   ]
  },
  {
   "cell_type": "markdown",
   "metadata": {
    "id": "0X_Lq4Bs5laq"
   },
   "source": [
    "Comme on peut le voir sur l'ensemble d'entraînement, le taux de bonne classif est 100% -->  un indicateur de sur-apprentissage."
   ]
  },
  {
   "cell_type": "code",
   "execution_count": 26,
   "metadata": {
    "colab": {
     "base_uri": "https://localhost:8080/"
    },
    "id": "tpycBAFx5laq",
    "outputId": "ef693c83-126d-4444-a199-5c449da29cc8"
   },
   "outputs": [
    {
     "name": "stdout",
     "output_type": "stream",
     "text": [
      "[[260541   5088]\n",
      " [ 43957   1742]]\n"
     ]
    }
   ],
   "source": [
    "from sklearn.metrics import confusion_matrix\n",
    "y_pred = dt.predict(X_test)\n",
    "\n",
    "print(confusion_matrix(y_test, y_pred))"
   ]
  },
  {
   "cell_type": "code",
   "execution_count": 27,
   "metadata": {
    "colab": {
     "base_uri": "https://localhost:8080/",
     "height": 279
    },
    "id": "FH0a3Kia5laq",
    "outputId": "6d16ef09-dd5c-40e5-f8ff-08546cfaf729"
   },
   "outputs": [
    {
     "data": {
      "image/png": "[encoded data removed]",
      "text/plain": [
       "<Figure size 432x288 with 2 Axes>"
      ]
     },
     "metadata": {
      "needs_background": "light"
     },
     "output_type": "display_data"
    }
   ],
   "source": [
    "from sklearn.metrics import plot_confusion_matrix\n",
    "plot_confusion_matrix(dt, X_test, y_test, display_labels=Voiture.sinister, cmap=plt.cm.Blues)\n",
    "plt.show()"
   ]
  },
  {
   "cell_type": "code",
   "execution_count": 28,
   "metadata": {
    "colab": {
     "base_uri": "https://localhost:8080/"
    },
    "id": "FEWHnTsB5laq",
    "outputId": "76bc7bd3-772e-4db3-c67e-b83e89c58a16"
   },
   "outputs": [
    {
     "name": "stdout",
     "output_type": "stream",
     "text": [
      "              precision    recall  f1-score   support\n",
      "\n",
      "           0  0.85564109 0.98084546 0.91397531    265629\n",
      "           1  0.25505124 0.03811900 0.06632527     45699\n",
      "\n",
      "    accuracy                      0.84246518    311328\n",
      "   macro avg  0.55534617 0.50948223 0.49015029    311328\n",
      "weighted avg  0.76748212 0.84246518 0.78955104    311328\n",
      "\n"
     ]
    }
   ],
   "source": [
    "from sklearn.metrics import classification_report\n",
    "y_pred = dt.predict(X_test)\n",
    "\n",
    "print(classification_report(y_test, y_pred, digits=8 ))\n",
    "\n"
   ]
  },
  {
   "cell_type": "code",
   "execution_count": 43,
   "metadata": {
    "colab": {
     "base_uri": "https://localhost:8080/"
    },
    "id": "XPXJ8Qb65laq",
    "outputId": "7e8f491f-716c-46c5-ba3a-9e6822252b08"
   },
   "outputs": [
    {
     "data": {
      "text/plain": [
       "(1037759, 6)"
      ]
     },
     "execution_count": 43,
     "metadata": {},
     "output_type": "execute_result"
    }
   ],
   "source": [
    "X.shape"
   ]
  },
  {
   "cell_type": "code",
   "execution_count": null,
   "metadata": {
    "id": "8tMps14l5lar"
   },
   "outputs": [],
   "source": []
  },
  {
   "cell_type": "code",
   "execution_count": 44,
   "metadata": {
    "id": "UnqNtcVm5lar"
   },
   "outputs": [],
   "source": [
    "param_grid = {'criterion': ['gini', 'entropy'],\n",
    "             'max_depth': np.arange(1,15)}"
   ]
  },
  {
   "cell_type": "code",
   "execution_count": 45,
   "metadata": {
    "id": "5dgj3QVv5lar"
   },
   "outputs": [],
   "source": [
    "from sklearn.model_selection import GridSearchCV"
   ]
  },
  {
   "cell_type": "code",
   "execution_count": 46,
   "metadata": {
    "id": "-dK0A8S35lar"
   },
   "outputs": [],
   "source": [
    "grid = GridSearchCV(DecisionTreeClassifier(random_state=0), param_grid=param_grid, cv=10)"
   ]
  },
  {
   "cell_type": "code",
   "execution_count": 47,
   "metadata": {
    "colab": {
     "base_uri": "https://localhost:8080/"
    },
    "id": "FvMjlCWf5lar",
    "outputId": "62d12d39-66d5-4234-e8cf-98da982f8f37"
   },
   "outputs": [
    {
     "data": {
      "text/plain": [
       "GridSearchCV(cv=10, estimator=DecisionTreeClassifier(random_state=0),\n",
       "             param_grid={'criterion': ['gini', 'entropy'],\n",
       "                         'max_depth': array([ 1,  2,  3,  4,  5,  6,  7,  8,  9, 10, 11, 12, 13, 14])})"
      ]
     },
     "execution_count": 47,
     "metadata": {},
     "output_type": "execute_result"
    }
   ],
   "source": [
    "grid.fit(X_train, y_train)"
   ]
  },
  {
   "cell_type": "code",
   "execution_count": 48,
   "metadata": {
    "colab": {
     "base_uri": "https://localhost:8080/"
    },
    "id": "Olqq_2yp5lar",
    "outputId": "ffd1eb22-811a-47c9-d05b-5afb8bd2ce80"
   },
   "outputs": [
    {
     "data": {
      "text/plain": [
       "{'criterion': 'entropy', 'max_depth': 8}"
      ]
     },
     "execution_count": 48,
     "metadata": {},
     "output_type": "execute_result"
    }
   ],
   "source": [
    "grid.best_params_"
   ]
  },
  {
   "cell_type": "code",
   "execution_count": 33,
   "metadata": {
    "id": "1oiczymH5lar"
   },
   "outputs": [],
   "source": [
    "final_model = DecisionTreeClassifier(random_state=1, criterion='entropy', max_depth=8)"
   ]
  },
  {
   "cell_type": "code",
   "execution_count": 34,
   "metadata": {
    "colab": {
     "base_uri": "https://localhost:8080/"
    },
    "id": "r343htXw5lar",
    "outputId": "dcd7f98b-53d6-42d6-e413-bc039155f296"
   },
   "outputs": [
    {
     "data": {
      "text/plain": [
       "DecisionTreeClassifier(criterion='entropy', max_depth=8, random_state=1)"
      ]
     },
     "execution_count": 34,
     "metadata": {},
     "output_type": "execute_result"
    }
   ],
   "source": [
    "final_model.fit(X_train, y_train)"
   ]
  },
  {
   "cell_type": "code",
   "execution_count": 35,
   "metadata": {
    "colab": {
     "base_uri": "https://localhost:8080/"
    },
    "id": "U4DVnrL55lar",
    "outputId": "9d3e0359-50ae-4858-aef7-86d5ab18777a"
   },
   "outputs": [
    {
     "name": "stdout",
     "output_type": "stream",
     "text": [
      "le train_score= 0.8526384474230863\n",
      "le test_score= 0.8532191129612499\n"
     ]
    }
   ],
   "source": [
    "print( 'le train_score=',final_model.score(X_train, y_train))\n",
    "print( 'le test_score=',final_model.score(X_test, y_test))"
   ]
  },
  {
   "cell_type": "code",
   "execution_count": 36,
   "metadata": {
    "colab": {
     "base_uri": "https://localhost:8080/",
     "height": 279
    },
    "id": "yEseOtNM5lar",
    "outputId": "9cdf7c33-89dc-41fe-9a76-249807aac4ac"
   },
   "outputs": [
    {
     "data": {
      "image/png": "[encoded data removed]",
      "text/plain": [
       "<Figure size 432x288 with 2 Axes>"
      ]
     },
     "metadata": {
      "needs_background": "light"
     },
     "output_type": "display_data"
    }
   ],
   "source": [
    "from sklearn.metrics import plot_confusion_matrix\n",
    "y_pred = final_model.predict(X)\n",
    "# plot_confusion_matrix(final_model, X_test, y_pred, display_labels=Voiture.sinister, cmap=plt.cm.Blues)\n",
    "plot_confusion_matrix(final_model, X_test, y_test, display_labels=Voiture.sinister, cmap=plt.cm.Blues)\n",
    "plt.show()"
   ]
  },
  {
   "cell_type": "code",
   "execution_count": 53,
   "metadata": {},
   "outputs": [
    {
     "data": {
      "text/plain": [
       "Index(['PuissanceFiscale', 'Energie', 'Ptac', 'DateMiseEnCirculation',\n",
       "       'CodeMarque', 'CodeUsage'],\n",
       "      dtype='object')"
      ]
     },
     "execution_count": 53,
     "metadata": {},
     "output_type": "execute_result"
    }
   ],
   "source": [
    "y_pred = final_model.predict(X_test)\n",
    "X.columns"
   ]
  },
  {
   "cell_type": "code",
   "execution_count": null,
   "metadata": {},
   "outputs": [],
   "source": [
    "\n"
   ]
  },
  {
   "cell_type": "code",
   "execution_count": 55,
   "metadata": {},
   "outputs": [],
   "source": [
    "from numpy import loadtxt\n",
    "from xgboost import XGBClassifier\n",
    "from xgboost import plot_tree\n",
    "import matplotlib.pyplot as plt\n",
    "from sklearn import tree\n",
    "with open(\"amin.dot\", 'w') as f:\n",
    "    f = tree.export_graphviz(final_model, out_file=f, filled=True)"
   ]
  },
  {
   "cell_type": "code",
   "execution_count": null,
   "metadata": {},
   "outputs": [],
   "source": []
  },
  {
   "cell_type": "code",
   "execution_count": null,
   "metadata": {},
   "outputs": [],
   "source": [
    "\n"
   ]
  },
  {
   "cell_type": "code",
   "execution_count": 56,
   "metadata": {
    "colab": {
     "base_uri": "https://localhost:8080/"
    },
    "id": "cIY8aEGA5lar",
    "outputId": "29882cab-b418-4a13-8f58-8dc9062fc921"
   },
   "outputs": [
    {
     "name": "stderr",
     "output_type": "stream",
     "text": [
      "C:\\Users\\amin\\Anaconda3\\lib\\site-packages\\sklearn\\metrics\\_classification.py:1248: UndefinedMetricWarning: Precision and F-score are ill-defined and being set to 0.0 in labels with no predicted samples. Use `zero_division` parameter to control this behavior.\n",
      "  _warn_prf(average, modifier, msg_start, len(result))\n"
     ]
    },
    {
     "name": "stdout",
     "output_type": "stream",
     "text": [
      "              precision    recall  f1-score   support\n",
      "\n",
      "           0  0.85321269 1.00000000 0.92079306    265629\n",
      "           1  0.00000000 0.00000000 0.00000000     45699\n",
      "\n",
      "    accuracy                      0.85321269    311328\n",
      "   macro avg  0.42660634 0.50000000 0.46039653    311328\n",
      "weighted avg  0.72797189 0.85321269 0.78563232    311328\n",
      "\n"
     ]
    },
    {
     "name": "stderr",
     "output_type": "stream",
     "text": [
      "C:\\Users\\amin\\Anaconda3\\lib\\site-packages\\sklearn\\metrics\\_classification.py:1248: UndefinedMetricWarning: Precision and F-score are ill-defined and being set to 0.0 in labels with no predicted samples. Use `zero_division` parameter to control this behavior.\n",
      "  _warn_prf(average, modifier, msg_start, len(result))\n",
      "C:\\Users\\amin\\Anaconda3\\lib\\site-packages\\sklearn\\metrics\\_classification.py:1248: UndefinedMetricWarning: Precision and F-score are ill-defined and being set to 0.0 in labels with no predicted samples. Use `zero_division` parameter to control this behavior.\n",
      "  _warn_prf(average, modifier, msg_start, len(result))\n"
     ]
    }
   ],
   "source": [
    "from sklearn.metrics import classification_report\n",
    "\n",
    "\n",
    "print(classification_report(y_test, y_pred, digits=8 ))\n"
   ]
  },
  {
   "cell_type": "code",
   "execution_count": null,
   "metadata": {
    "colab": {
     "base_uri": "https://localhost:8080/",
     "height": 570
    },
    "id": "p8Y6RCFO5lar",
    "outputId": "b6775919-6490-488a-dd95-412aa17a06af"
   },
   "outputs": [],
   "source": []
  },
  {
   "cell_type": "code",
   "execution_count": 14,
   "metadata": {
    "colab": {
     "base_uri": "https://localhost:8080/"
    },
    "id": "FZ_HgpvI5lar",
    "outputId": "b35edb0c-6616-4b98-fe4b-027e1d6d13f4"
   },
   "outputs": [],
   "source": [
    "from numpy import loadtxt\n",
    "from xgboost import XGBClassifier\n",
    "from sklearn.model_selection import train_test_split\n",
    "from sklearn.metrics import accuracy_score"
   ]
  },
  {
   "cell_type": "code",
   "execution_count": 45,
   "metadata": {
    "id": "3JYGEd7f5lar"
   },
   "outputs": [
    {
     "data": {
      "text/plain": [
       "XGBClassifier(max_depth=10, n_estimators=300)"
      ]
     },
     "execution_count": 45,
     "metadata": {},
     "output_type": "execute_result"
    }
   ],
   "source": [
    "model = XGBClassifier(max_depth=10,n_estimators=300)\n",
    "model.fit(X_train, y_train)"
   ]
  },
  {
   "cell_type": "code",
   "execution_count": 50,
   "metadata": {},
   "outputs": [],
   "source": [
    "XGBClassifier?"
   ]
  },
  {
   "cell_type": "code",
   "execution_count": 47,
   "metadata": {
    "colab": {
     "base_uri": "https://localhost:8080/"
    },
    "id": "L7QTrS025lar",
    "outputId": "57420e01-d21d-4f5c-9022-6d644f1b42d3"
   },
   "outputs": [],
   "source": [
    "y_pred = model.predict(X_test)\n",
    "predictions = [round(value) for value in y_pred]"
   ]
  },
  {
   "cell_type": "code",
   "execution_count": 48,
   "metadata": {
    "id": "WOSi87sT-oNY"
   },
   "outputs": [
    {
     "name": "stdout",
     "output_type": "stream",
     "text": [
      "Accuracy: 85.27%\n"
     ]
    }
   ],
   "source": [
    "accuracy = accuracy_score(y_test, predictions)\n",
    "print(\"Accuracy: %.2f%%\" % (accuracy * 100.0))"
   ]
  },
  {
   "cell_type": "code",
   "execution_count": 49,
   "metadata": {},
   "outputs": [
    {
     "name": "stdout",
     "output_type": "stream",
     "text": [
      "              precision    recall  f1-score   support\n",
      "\n",
      "           0  0.85389954 0.99809509 0.92038381    265629\n",
      "           1  0.39976275 0.00737434 0.01448154     45699\n",
      "\n",
      "    accuracy                      0.85266985    311328\n",
      "   macro avg  0.62683115 0.50273471 0.46743268    311328\n",
      "weighted avg  0.78723803 0.85266985 0.78740885    311328\n",
      "\n"
     ]
    }
   ],
   "source": [
    "print(classification_report(y_test, y_pred, digits=8 ))"
   ]
  },
  {
   "cell_type": "code",
   "execution_count": null,
   "metadata": {},
   "outputs": [],
   "source": []
  },
  {
   "cell_type": "code",
   "execution_count": null,
   "metadata": {},
   "outputs": [],
   "source": []
  },
  {
   "cell_type": "code",
   "execution_count": null,
   "metadata": {},
   "outputs": [],
   "source": []
  },
  {
   "cell_type": "code",
   "execution_count": null,
   "metadata": {},
   "outputs": [],
   "source": []
  },
  {
   "cell_type": "code",
   "execution_count": null,
   "metadata": {},
   "outputs": [],
   "source": []
  },
  {
   "cell_type": "code",
   "execution_count": null,
   "metadata": {},
   "outputs": [],
   "source": []
  },
  {
   "cell_type": "code",
   "execution_count": null,
   "metadata": {},
   "outputs": [],
   "source": []
  },
  {
   "cell_type": "code",
   "execution_count": null,
   "metadata": {},
   "outputs": [],
   "source": []
  },
  {
   "cell_type": "code",
   "execution_count": null,
   "metadata": {},
   "outputs": [],
   "source": []
  },
  {
   "cell_type": "code",
   "execution_count": null,
   "metadata": {},
   "outputs": [],
   "source": []
  }
 ],
 "metadata": {
  "colab": {
   "name": "ArbreDeDecision_4DS5.ipynb",
   "provenance": []
  },
  "kernelspec": {
   "display_name": "Python 3",
   "language": "python",
   "name": "python3"
  },
  "language_info": {
   "codemirror_mode": {
    "name": "ipython",
    "version": 3
   },
   "file_extension": ".py",
   "mimetype": "text/x-python",
   "name": "python",
   "nbconvert_exporter": "python",
   "pygments_lexer": "ipython3",
   "version": "3.7.4"
  }
 },
 "nbformat": 4,
 "nbformat_minor": 4
}
